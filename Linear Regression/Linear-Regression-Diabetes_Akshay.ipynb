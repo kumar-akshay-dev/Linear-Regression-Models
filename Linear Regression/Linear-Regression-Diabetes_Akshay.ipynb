{
 "cells": [
  {
   "cell_type": "code",
   "execution_count": 21,
   "metadata": {},
   "outputs": [],
   "source": [
    "%matplotlib inline"
   ]
  },
  {
   "cell_type": "markdown",
   "metadata": {},
   "source": [
    "\n",
    "# Diabetes dataset\n",
    "\n",
    "Ten variables, age, sex, body mass index, average blood pressure, and six blood serum measurements were obtained for each of n = 442 diabetes patients.\n",
    "\n",
    "age:- age in years\n",
    "sex:-\n",
    "bmi:- body mass index\n",
    "bp:- average blood pressure\n",
    "s1 tc:- T-Cells (a type of white blood cells)\n",
    "s2 ldl:- low-density lipoproteins\n",
    "s3 hdl:- high-density lipoproteins\n",
    "s4 tch:- thyroid stimulating hormone\n",
    "s5 ltg:- lamotrigine\n",
    "s6 glu:- blood sugar level\n",
    "\n"
   ]
  },
  {
   "cell_type": "code",
   "execution_count": 22,
   "metadata": {},
   "outputs": [],
   "source": [
    "import matplotlib.pyplot as plt\n",
    "import numpy as np\n",
    "from sklearn import datasets, linear_model\n",
    "from sklearn.metrics import mean_squared_error, r2_score\n",
    "import pandas as pd\n",
    "\n",
    "# Load the diabetes dataset\n",
    "\n",
    "data = datasets.load_diabetes()\n",
    "df = pd.DataFrame(data.data, columns=data.feature_names)\n",
    "target=pd.DataFrame(data= data['target'],\n",
    "                     columns= ['sugar-level'])\n"
   ]
  },
  {
   "cell_type": "code",
   "execution_count": 23,
   "metadata": {},
   "outputs": [],
   "source": [
    "df_new = pd.concat([df, target], axis=1)"
   ]
  },
  {
   "cell_type": "code",
   "execution_count": 24,
   "metadata": {},
   "outputs": [
    {
     "name": "stdout",
     "output_type": "stream",
     "text": [
      "<class 'pandas.core.frame.DataFrame'>\n",
      "RangeIndex: 442 entries, 0 to 441\n",
      "Data columns (total 11 columns):\n",
      " #   Column       Non-Null Count  Dtype  \n",
      "---  ------       --------------  -----  \n",
      " 0   age          442 non-null    float64\n",
      " 1   sex          442 non-null    float64\n",
      " 2   bmi          442 non-null    float64\n",
      " 3   bp           442 non-null    float64\n",
      " 4   s1           442 non-null    float64\n",
      " 5   s2           442 non-null    float64\n",
      " 6   s3           442 non-null    float64\n",
      " 7   s4           442 non-null    float64\n",
      " 8   s5           442 non-null    float64\n",
      " 9   s6           442 non-null    float64\n",
      " 10  sugar-level  442 non-null    float64\n",
      "dtypes: float64(11)\n",
      "memory usage: 38.1 KB\n"
     ]
    }
   ],
   "source": [
    "df_new.info()"
   ]
  },
  {
   "cell_type": "markdown",
   "metadata": {},
   "source": [
    "Data habve been Uploaded in two dataframe'df_new' \n",
    "\n",
    "\n",
    "target columns os sugar-level that you need to predict"
   ]
  },
  {
   "cell_type": "code",
   "execution_count": 25,
   "metadata": {},
   "outputs": [
    {
     "data": {
      "text/html": [
       "<div>\n",
       "<style scoped>\n",
       "    .dataframe tbody tr th:only-of-type {\n",
       "        vertical-align: middle;\n",
       "    }\n",
       "\n",
       "    .dataframe tbody tr th {\n",
       "        vertical-align: top;\n",
       "    }\n",
       "\n",
       "    .dataframe thead th {\n",
       "        text-align: right;\n",
       "    }\n",
       "</style>\n",
       "<table border=\"1\" class=\"dataframe\">\n",
       "  <thead>\n",
       "    <tr style=\"text-align: right;\">\n",
       "      <th></th>\n",
       "      <th>age</th>\n",
       "      <th>sex</th>\n",
       "      <th>bmi</th>\n",
       "      <th>bp</th>\n",
       "      <th>s1</th>\n",
       "      <th>s2</th>\n",
       "      <th>s3</th>\n",
       "      <th>s4</th>\n",
       "      <th>s5</th>\n",
       "      <th>s6</th>\n",
       "      <th>sugar-level</th>\n",
       "    </tr>\n",
       "  </thead>\n",
       "  <tbody>\n",
       "    <tr>\n",
       "      <th>0</th>\n",
       "      <td>0.038076</td>\n",
       "      <td>0.050680</td>\n",
       "      <td>0.061696</td>\n",
       "      <td>0.021872</td>\n",
       "      <td>-0.044223</td>\n",
       "      <td>-0.034821</td>\n",
       "      <td>-0.043401</td>\n",
       "      <td>-0.002592</td>\n",
       "      <td>0.019908</td>\n",
       "      <td>-0.017646</td>\n",
       "      <td>151.0</td>\n",
       "    </tr>\n",
       "    <tr>\n",
       "      <th>1</th>\n",
       "      <td>-0.001882</td>\n",
       "      <td>-0.044642</td>\n",
       "      <td>-0.051474</td>\n",
       "      <td>-0.026328</td>\n",
       "      <td>-0.008449</td>\n",
       "      <td>-0.019163</td>\n",
       "      <td>0.074412</td>\n",
       "      <td>-0.039493</td>\n",
       "      <td>-0.068330</td>\n",
       "      <td>-0.092204</td>\n",
       "      <td>75.0</td>\n",
       "    </tr>\n",
       "    <tr>\n",
       "      <th>2</th>\n",
       "      <td>0.085299</td>\n",
       "      <td>0.050680</td>\n",
       "      <td>0.044451</td>\n",
       "      <td>-0.005671</td>\n",
       "      <td>-0.045599</td>\n",
       "      <td>-0.034194</td>\n",
       "      <td>-0.032356</td>\n",
       "      <td>-0.002592</td>\n",
       "      <td>0.002864</td>\n",
       "      <td>-0.025930</td>\n",
       "      <td>141.0</td>\n",
       "    </tr>\n",
       "    <tr>\n",
       "      <th>3</th>\n",
       "      <td>-0.089063</td>\n",
       "      <td>-0.044642</td>\n",
       "      <td>-0.011595</td>\n",
       "      <td>-0.036656</td>\n",
       "      <td>0.012191</td>\n",
       "      <td>0.024991</td>\n",
       "      <td>-0.036038</td>\n",
       "      <td>0.034309</td>\n",
       "      <td>0.022692</td>\n",
       "      <td>-0.009362</td>\n",
       "      <td>206.0</td>\n",
       "    </tr>\n",
       "    <tr>\n",
       "      <th>4</th>\n",
       "      <td>0.005383</td>\n",
       "      <td>-0.044642</td>\n",
       "      <td>-0.036385</td>\n",
       "      <td>0.021872</td>\n",
       "      <td>0.003935</td>\n",
       "      <td>0.015596</td>\n",
       "      <td>0.008142</td>\n",
       "      <td>-0.002592</td>\n",
       "      <td>-0.031991</td>\n",
       "      <td>-0.046641</td>\n",
       "      <td>135.0</td>\n",
       "    </tr>\n",
       "    <tr>\n",
       "      <th>5</th>\n",
       "      <td>-0.092695</td>\n",
       "      <td>-0.044642</td>\n",
       "      <td>-0.040696</td>\n",
       "      <td>-0.019442</td>\n",
       "      <td>-0.068991</td>\n",
       "      <td>-0.079288</td>\n",
       "      <td>0.041277</td>\n",
       "      <td>-0.076395</td>\n",
       "      <td>-0.041180</td>\n",
       "      <td>-0.096346</td>\n",
       "      <td>97.0</td>\n",
       "    </tr>\n",
       "    <tr>\n",
       "      <th>6</th>\n",
       "      <td>-0.045472</td>\n",
       "      <td>0.050680</td>\n",
       "      <td>-0.047163</td>\n",
       "      <td>-0.015999</td>\n",
       "      <td>-0.040096</td>\n",
       "      <td>-0.024800</td>\n",
       "      <td>0.000779</td>\n",
       "      <td>-0.039493</td>\n",
       "      <td>-0.062913</td>\n",
       "      <td>-0.038357</td>\n",
       "      <td>138.0</td>\n",
       "    </tr>\n",
       "    <tr>\n",
       "      <th>7</th>\n",
       "      <td>0.063504</td>\n",
       "      <td>0.050680</td>\n",
       "      <td>-0.001895</td>\n",
       "      <td>0.066630</td>\n",
       "      <td>0.090620</td>\n",
       "      <td>0.108914</td>\n",
       "      <td>0.022869</td>\n",
       "      <td>0.017703</td>\n",
       "      <td>-0.035817</td>\n",
       "      <td>0.003064</td>\n",
       "      <td>63.0</td>\n",
       "    </tr>\n",
       "    <tr>\n",
       "      <th>8</th>\n",
       "      <td>0.041708</td>\n",
       "      <td>0.050680</td>\n",
       "      <td>0.061696</td>\n",
       "      <td>-0.040099</td>\n",
       "      <td>-0.013953</td>\n",
       "      <td>0.006202</td>\n",
       "      <td>-0.028674</td>\n",
       "      <td>-0.002592</td>\n",
       "      <td>-0.014956</td>\n",
       "      <td>0.011349</td>\n",
       "      <td>110.0</td>\n",
       "    </tr>\n",
       "    <tr>\n",
       "      <th>9</th>\n",
       "      <td>-0.070900</td>\n",
       "      <td>-0.044642</td>\n",
       "      <td>0.039062</td>\n",
       "      <td>-0.033214</td>\n",
       "      <td>-0.012577</td>\n",
       "      <td>-0.034508</td>\n",
       "      <td>-0.024993</td>\n",
       "      <td>-0.002592</td>\n",
       "      <td>0.067736</td>\n",
       "      <td>-0.013504</td>\n",
       "      <td>310.0</td>\n",
       "    </tr>\n",
       "  </tbody>\n",
       "</table>\n",
       "</div>"
      ],
      "text/plain": [
       "        age       sex       bmi        bp        s1        s2        s3  \\\n",
       "0  0.038076  0.050680  0.061696  0.021872 -0.044223 -0.034821 -0.043401   \n",
       "1 -0.001882 -0.044642 -0.051474 -0.026328 -0.008449 -0.019163  0.074412   \n",
       "2  0.085299  0.050680  0.044451 -0.005671 -0.045599 -0.034194 -0.032356   \n",
       "3 -0.089063 -0.044642 -0.011595 -0.036656  0.012191  0.024991 -0.036038   \n",
       "4  0.005383 -0.044642 -0.036385  0.021872  0.003935  0.015596  0.008142   \n",
       "5 -0.092695 -0.044642 -0.040696 -0.019442 -0.068991 -0.079288  0.041277   \n",
       "6 -0.045472  0.050680 -0.047163 -0.015999 -0.040096 -0.024800  0.000779   \n",
       "7  0.063504  0.050680 -0.001895  0.066630  0.090620  0.108914  0.022869   \n",
       "8  0.041708  0.050680  0.061696 -0.040099 -0.013953  0.006202 -0.028674   \n",
       "9 -0.070900 -0.044642  0.039062 -0.033214 -0.012577 -0.034508 -0.024993   \n",
       "\n",
       "         s4        s5        s6  sugar-level  \n",
       "0 -0.002592  0.019908 -0.017646        151.0  \n",
       "1 -0.039493 -0.068330 -0.092204         75.0  \n",
       "2 -0.002592  0.002864 -0.025930        141.0  \n",
       "3  0.034309  0.022692 -0.009362        206.0  \n",
       "4 -0.002592 -0.031991 -0.046641        135.0  \n",
       "5 -0.076395 -0.041180 -0.096346         97.0  \n",
       "6 -0.039493 -0.062913 -0.038357        138.0  \n",
       "7  0.017703 -0.035817  0.003064         63.0  \n",
       "8 -0.002592 -0.014956  0.011349        110.0  \n",
       "9 -0.002592  0.067736 -0.013504        310.0  "
      ]
     },
     "execution_count": 25,
     "metadata": {},
     "output_type": "execute_result"
    }
   ],
   "source": [
    "df_new.head(10)"
   ]
  },
  {
   "cell_type": "code",
   "execution_count": 26,
   "metadata": {},
   "outputs": [
    {
     "data": {
      "text/plain": [
       "<matplotlib.axes._subplots.AxesSubplot at 0x1852afe1548>"
      ]
     },
     "execution_count": 26,
     "metadata": {},
     "output_type": "execute_result"
    },
    {
     "data": {
      "image/png": "[encoded data removed]",
      "text/plain": [
       "<Figure size 792x648 with 2 Axes>"
      ]
     },
     "metadata": {},
     "output_type": "display_data"
    }
   ],
   "source": [
    "import seaborn as sns\n",
    "\n",
    "sns.set(style=\"white\")\n",
    "\n",
    "# Generate a large random dataset\n",
    "rs = np.random.RandomState(33)\n",
    "\n",
    "\n",
    "# Compute the correlation matrix\n",
    "corr = df_new.corr()\n",
    "\n",
    "# Generate a mask for the upper triangle\n",
    "mask = np.triu(np.ones_like(corr, dtype=np.bool))\n",
    "\n",
    "# Set up the matplotlib figure\n",
    "f, ax = plt.subplots(figsize=(11, 9))\n",
    "\n",
    "# Generate a custom diverging colormap\n",
    "cmap = sns.diverging_palette(220, 10, as_cmap=True)\n",
    "\n",
    "# Draw the heatmap with the mask and correct aspect ratio\n",
    "sns.heatmap(corr, mask=mask, cmap=cmap, vmax=.3, center=0,\n",
    "            square=True, linewidths=.5, cbar_kws={\"shrink\": .5})"
   ]
  },
  {
   "cell_type": "markdown",
   "metadata": {},
   "source": [
    "remove one of two features that have a correlation higher than 0.9"
   ]
  },
  {
   "cell_type": "code",
   "execution_count": 27,
   "metadata": {},
   "outputs": [
    {
     "data": {
      "text/html": [
       "<div>\n",
       "<style scoped>\n",
       "    .dataframe tbody tr th:only-of-type {\n",
       "        vertical-align: middle;\n",
       "    }\n",
       "\n",
       "    .dataframe tbody tr th {\n",
       "        vertical-align: top;\n",
       "    }\n",
       "\n",
       "    .dataframe thead th {\n",
       "        text-align: right;\n",
       "    }\n",
       "</style>\n",
       "<table border=\"1\" class=\"dataframe\">\n",
       "  <thead>\n",
       "    <tr style=\"text-align: right;\">\n",
       "      <th></th>\n",
       "      <th>age</th>\n",
       "      <th>sex</th>\n",
       "      <th>bmi</th>\n",
       "      <th>bp</th>\n",
       "      <th>s1</th>\n",
       "      <th>s2</th>\n",
       "      <th>s3</th>\n",
       "      <th>s4</th>\n",
       "      <th>s5</th>\n",
       "      <th>s6</th>\n",
       "      <th>sugar-level</th>\n",
       "    </tr>\n",
       "  </thead>\n",
       "  <tbody>\n",
       "    <tr>\n",
       "      <th>age</th>\n",
       "      <td>1.000000</td>\n",
       "      <td>0.173737</td>\n",
       "      <td>0.185085</td>\n",
       "      <td>0.335427</td>\n",
       "      <td>0.260061</td>\n",
       "      <td>0.219243</td>\n",
       "      <td>0.075181</td>\n",
       "      <td>0.203841</td>\n",
       "      <td>0.270777</td>\n",
       "      <td>0.301731</td>\n",
       "      <td>0.187889</td>\n",
       "    </tr>\n",
       "    <tr>\n",
       "      <th>sex</th>\n",
       "      <td>0.173737</td>\n",
       "      <td>1.000000</td>\n",
       "      <td>0.088161</td>\n",
       "      <td>0.241013</td>\n",
       "      <td>0.035277</td>\n",
       "      <td>0.142637</td>\n",
       "      <td>0.379090</td>\n",
       "      <td>0.332115</td>\n",
       "      <td>0.149918</td>\n",
       "      <td>0.208133</td>\n",
       "      <td>0.043062</td>\n",
       "    </tr>\n",
       "    <tr>\n",
       "      <th>bmi</th>\n",
       "      <td>0.185085</td>\n",
       "      <td>0.088161</td>\n",
       "      <td>1.000000</td>\n",
       "      <td>0.395415</td>\n",
       "      <td>0.249777</td>\n",
       "      <td>0.261170</td>\n",
       "      <td>0.366811</td>\n",
       "      <td>0.413807</td>\n",
       "      <td>0.446159</td>\n",
       "      <td>0.388680</td>\n",
       "      <td>0.586450</td>\n",
       "    </tr>\n",
       "    <tr>\n",
       "      <th>bp</th>\n",
       "      <td>0.335427</td>\n",
       "      <td>0.241013</td>\n",
       "      <td>0.395415</td>\n",
       "      <td>1.000000</td>\n",
       "      <td>0.242470</td>\n",
       "      <td>0.185558</td>\n",
       "      <td>0.178761</td>\n",
       "      <td>0.257653</td>\n",
       "      <td>0.393478</td>\n",
       "      <td>0.390429</td>\n",
       "      <td>0.441484</td>\n",
       "    </tr>\n",
       "    <tr>\n",
       "      <th>s1</th>\n",
       "      <td>0.260061</td>\n",
       "      <td>0.035277</td>\n",
       "      <td>0.249777</td>\n",
       "      <td>0.242470</td>\n",
       "      <td>1.000000</td>\n",
       "      <td>0.896663</td>\n",
       "      <td>0.051519</td>\n",
       "      <td>0.542207</td>\n",
       "      <td>0.515501</td>\n",
       "      <td>0.325717</td>\n",
       "      <td>0.212022</td>\n",
       "    </tr>\n",
       "    <tr>\n",
       "      <th>s2</th>\n",
       "      <td>0.219243</td>\n",
       "      <td>0.142637</td>\n",
       "      <td>0.261170</td>\n",
       "      <td>0.185558</td>\n",
       "      <td>0.896663</td>\n",
       "      <td>1.000000</td>\n",
       "      <td>0.196455</td>\n",
       "      <td>0.659817</td>\n",
       "      <td>0.318353</td>\n",
       "      <td>0.290600</td>\n",
       "      <td>0.174054</td>\n",
       "    </tr>\n",
       "    <tr>\n",
       "      <th>s3</th>\n",
       "      <td>0.075181</td>\n",
       "      <td>0.379090</td>\n",
       "      <td>0.366811</td>\n",
       "      <td>0.178761</td>\n",
       "      <td>0.051519</td>\n",
       "      <td>0.196455</td>\n",
       "      <td>1.000000</td>\n",
       "      <td>0.738493</td>\n",
       "      <td>0.398577</td>\n",
       "      <td>0.273697</td>\n",
       "      <td>0.394789</td>\n",
       "    </tr>\n",
       "    <tr>\n",
       "      <th>s4</th>\n",
       "      <td>0.203841</td>\n",
       "      <td>0.332115</td>\n",
       "      <td>0.413807</td>\n",
       "      <td>0.257653</td>\n",
       "      <td>0.542207</td>\n",
       "      <td>0.659817</td>\n",
       "      <td>0.738493</td>\n",
       "      <td>1.000000</td>\n",
       "      <td>0.617857</td>\n",
       "      <td>0.417212</td>\n",
       "      <td>0.430453</td>\n",
       "    </tr>\n",
       "    <tr>\n",
       "      <th>s5</th>\n",
       "      <td>0.270777</td>\n",
       "      <td>0.149918</td>\n",
       "      <td>0.446159</td>\n",
       "      <td>0.393478</td>\n",
       "      <td>0.515501</td>\n",
       "      <td>0.318353</td>\n",
       "      <td>0.398577</td>\n",
       "      <td>0.617857</td>\n",
       "      <td>1.000000</td>\n",
       "      <td>0.464670</td>\n",
       "      <td>0.565883</td>\n",
       "    </tr>\n",
       "    <tr>\n",
       "      <th>s6</th>\n",
       "      <td>0.301731</td>\n",
       "      <td>0.208133</td>\n",
       "      <td>0.388680</td>\n",
       "      <td>0.390429</td>\n",
       "      <td>0.325717</td>\n",
       "      <td>0.290600</td>\n",
       "      <td>0.273697</td>\n",
       "      <td>0.417212</td>\n",
       "      <td>0.464670</td>\n",
       "      <td>1.000000</td>\n",
       "      <td>0.382483</td>\n",
       "    </tr>\n",
       "    <tr>\n",
       "      <th>sugar-level</th>\n",
       "      <td>0.187889</td>\n",
       "      <td>0.043062</td>\n",
       "      <td>0.586450</td>\n",
       "      <td>0.441484</td>\n",
       "      <td>0.212022</td>\n",
       "      <td>0.174054</td>\n",
       "      <td>0.394789</td>\n",
       "      <td>0.430453</td>\n",
       "      <td>0.565883</td>\n",
       "      <td>0.382483</td>\n",
       "      <td>1.000000</td>\n",
       "    </tr>\n",
       "  </tbody>\n",
       "</table>\n",
       "</div>"
      ],
      "text/plain": [
       "                  age       sex       bmi        bp        s1        s2  \\\n",
       "age          1.000000  0.173737  0.185085  0.335427  0.260061  0.219243   \n",
       "sex          0.173737  1.000000  0.088161  0.241013  0.035277  0.142637   \n",
       "bmi          0.185085  0.088161  1.000000  0.395415  0.249777  0.261170   \n",
       "bp           0.335427  0.241013  0.395415  1.000000  0.242470  0.185558   \n",
       "s1           0.260061  0.035277  0.249777  0.242470  1.000000  0.896663   \n",
       "s2           0.219243  0.142637  0.261170  0.185558  0.896663  1.000000   \n",
       "s3           0.075181  0.379090  0.366811  0.178761  0.051519  0.196455   \n",
       "s4           0.203841  0.332115  0.413807  0.257653  0.542207  0.659817   \n",
       "s5           0.270777  0.149918  0.446159  0.393478  0.515501  0.318353   \n",
       "s6           0.301731  0.208133  0.388680  0.390429  0.325717  0.290600   \n",
       "sugar-level  0.187889  0.043062  0.586450  0.441484  0.212022  0.174054   \n",
       "\n",
       "                   s3        s4        s5        s6  sugar-level  \n",
       "age          0.075181  0.203841  0.270777  0.301731     0.187889  \n",
       "sex          0.379090  0.332115  0.149918  0.208133     0.043062  \n",
       "bmi          0.366811  0.413807  0.446159  0.388680     0.586450  \n",
       "bp           0.178761  0.257653  0.393478  0.390429     0.441484  \n",
       "s1           0.051519  0.542207  0.515501  0.325717     0.212022  \n",
       "s2           0.196455  0.659817  0.318353  0.290600     0.174054  \n",
       "s3           1.000000  0.738493  0.398577  0.273697     0.394789  \n",
       "s4           0.738493  1.000000  0.617857  0.417212     0.430453  \n",
       "s5           0.398577  0.617857  1.000000  0.464670     0.565883  \n",
       "s6           0.273697  0.417212  0.464670  1.000000     0.382483  \n",
       "sugar-level  0.394789  0.430453  0.565883  0.382483     1.000000  "
      ]
     },
     "execution_count": 27,
     "metadata": {},
     "output_type": "execute_result"
    }
   ],
   "source": [
    "corr_matrix = df_new.corr().abs()\n",
    "corr_matrix"
   ]
  },
  {
   "cell_type": "code",
   "execution_count": 133,
   "metadata": {},
   "outputs": [
    {
     "data": {
      "text/html": [
       "<style  type=\"text/css\" >\n",
       "    #T_a8370cca_a91b_11ea_9c60_9cda3ef7bab0row0_col0 {\n",
       "            background-color:  #b40426;\n",
       "            color:  #f1f1f1;\n",
       "        }    #T_a8370cca_a91b_11ea_9c60_9cda3ef7bab0row0_col1 {\n",
       "            background-color:  #c0d4f5;\n",
       "            color:  #000000;\n",
       "        }    #T_a8370cca_a91b_11ea_9c60_9cda3ef7bab0row0_col2 {\n",
       "            background-color:  #c1d4f4;\n",
       "            color:  #000000;\n",
       "        }    #T_a8370cca_a91b_11ea_9c60_9cda3ef7bab0row0_col3 {\n",
       "            background-color:  #cbd8ee;\n",
       "            color:  #000000;\n",
       "        }    #T_a8370cca_a91b_11ea_9c60_9cda3ef7bab0row0_col4 {\n",
       "            background-color:  #86a9fc;\n",
       "            color:  #000000;\n",
       "        }    #T_a8370cca_a91b_11ea_9c60_9cda3ef7bab0row0_col5 {\n",
       "            background-color:  #aec9fc;\n",
       "            color:  #000000;\n",
       "        }    #T_a8370cca_a91b_11ea_9c60_9cda3ef7bab0row0_col6 {\n",
       "            background-color:  #bad0f8;\n",
       "            color:  #000000;\n",
       "        }    #T_a8370cca_a91b_11ea_9c60_9cda3ef7bab0row0_col7 {\n",
       "            background-color:  #e7d7ce;\n",
       "            color:  #000000;\n",
       "        }    #T_a8370cca_a91b_11ea_9c60_9cda3ef7bab0row0_col8 {\n",
       "            background-color:  #d7dce3;\n",
       "            color:  #000000;\n",
       "        }    #T_a8370cca_a91b_11ea_9c60_9cda3ef7bab0row0_col9 {\n",
       "            background-color:  #cfdaea;\n",
       "            color:  #000000;\n",
       "        }    #T_a8370cca_a91b_11ea_9c60_9cda3ef7bab0row0_col10 {\n",
       "            background-color:  #c5d6f2;\n",
       "            color:  #000000;\n",
       "        }    #T_a8370cca_a91b_11ea_9c60_9cda3ef7bab0row1_col0 {\n",
       "            background-color:  #86a9fc;\n",
       "            color:  #000000;\n",
       "        }    #T_a8370cca_a91b_11ea_9c60_9cda3ef7bab0row1_col1 {\n",
       "            background-color:  #b40426;\n",
       "            color:  #f1f1f1;\n",
       "        }    #T_a8370cca_a91b_11ea_9c60_9cda3ef7bab0row1_col2 {\n",
       "            background-color:  #aac7fd;\n",
       "            color:  #000000;\n",
       "        }    #T_a8370cca_a91b_11ea_9c60_9cda3ef7bab0row1_col3 {\n",
       "            background-color:  #b2ccfb;\n",
       "            color:  #000000;\n",
       "        }    #T_a8370cca_a91b_11ea_9c60_9cda3ef7bab0row1_col4 {\n",
       "            background-color:  #3b4cc0;\n",
       "            color:  #f1f1f1;\n",
       "        }    #T_a8370cca_a91b_11ea_9c60_9cda3ef7bab0row1_col5 {\n",
       "            background-color:  #98b9ff;\n",
       "            color:  #000000;\n",
       "        }    #T_a8370cca_a91b_11ea_9c60_9cda3ef7bab0row1_col6 {\n",
       "            background-color:  #7da0f9;\n",
       "            color:  #000000;\n",
       "        }    #T_a8370cca_a91b_11ea_9c60_9cda3ef7bab0row1_col7 {\n",
       "            background-color:  #f3c7b1;\n",
       "            color:  #000000;\n",
       "        }    #T_a8370cca_a91b_11ea_9c60_9cda3ef7bab0row1_col8 {\n",
       "            background-color:  #bed2f6;\n",
       "            color:  #000000;\n",
       "        }    #T_a8370cca_a91b_11ea_9c60_9cda3ef7bab0row1_col9 {\n",
       "            background-color:  #b9d0f9;\n",
       "            color:  #000000;\n",
       "        }    #T_a8370cca_a91b_11ea_9c60_9cda3ef7bab0row1_col10 {\n",
       "            background-color:  #a3c2fe;\n",
       "            color:  #000000;\n",
       "        }    #T_a8370cca_a91b_11ea_9c60_9cda3ef7bab0row2_col0 {\n",
       "            background-color:  #89acfd;\n",
       "            color:  #000000;\n",
       "        }    #T_a8370cca_a91b_11ea_9c60_9cda3ef7bab0row2_col1 {\n",
       "            background-color:  #abc8fd;\n",
       "            color:  #000000;\n",
       "        }    #T_a8370cca_a91b_11ea_9c60_9cda3ef7bab0row2_col2 {\n",
       "            background-color:  #b40426;\n",
       "            color:  #f1f1f1;\n",
       "        }    #T_a8370cca_a91b_11ea_9c60_9cda3ef7bab0row2_col3 {\n",
       "            background-color:  #d9dce1;\n",
       "            color:  #000000;\n",
       "        }    #T_a8370cca_a91b_11ea_9c60_9cda3ef7bab0row2_col4 {\n",
       "            background-color:  #82a6fb;\n",
       "            color:  #000000;\n",
       "        }    #T_a8370cca_a91b_11ea_9c60_9cda3ef7bab0row2_col5 {\n",
       "            background-color:  #bad0f8;\n",
       "            color:  #000000;\n",
       "        }    #T_a8370cca_a91b_11ea_9c60_9cda3ef7bab0row2_col6 {\n",
       "            background-color:  #80a3fa;\n",
       "            color:  #000000;\n",
       "        }    #T_a8370cca_a91b_11ea_9c60_9cda3ef7bab0row2_col7 {\n",
       "            background-color:  #f7b99e;\n",
       "            color:  #000000;\n",
       "        }    #T_a8370cca_a91b_11ea_9c60_9cda3ef7bab0row2_col8 {\n",
       "            background-color:  #f2cab5;\n",
       "            color:  #000000;\n",
       "        }    #T_a8370cca_a91b_11ea_9c60_9cda3ef7bab0row2_col9 {\n",
       "            background-color:  #e2dad5;\n",
       "            color:  #000000;\n",
       "        }    #T_a8370cca_a91b_11ea_9c60_9cda3ef7bab0row2_col10 {\n",
       "            background-color:  #f7aa8c;\n",
       "            color:  #000000;\n",
       "        }    #T_a8370cca_a91b_11ea_9c60_9cda3ef7bab0row3_col0 {\n",
       "            background-color:  #bad0f8;\n",
       "            color:  #000000;\n",
       "        }    #T_a8370cca_a91b_11ea_9c60_9cda3ef7bab0row3_col1 {\n",
       "            background-color:  #cfdaea;\n",
       "            color:  #000000;\n",
       "        }    #T_a8370cca_a91b_11ea_9c60_9cda3ef7bab0row3_col2 {\n",
       "            background-color:  #ead4c8;\n",
       "            color:  #000000;\n",
       "        }    #T_a8370cca_a91b_11ea_9c60_9cda3ef7bab0row3_col3 {\n",
       "            background-color:  #b40426;\n",
       "            color:  #f1f1f1;\n",
       "        }    #T_a8370cca_a91b_11ea_9c60_9cda3ef7bab0row3_col4 {\n",
       "            background-color:  #80a3fa;\n",
       "            color:  #000000;\n",
       "        }    #T_a8370cca_a91b_11ea_9c60_9cda3ef7bab0row3_col5 {\n",
       "            background-color:  #a5c3fe;\n",
       "            color:  #000000;\n",
       "        }    #T_a8370cca_a91b_11ea_9c60_9cda3ef7bab0row3_col6 {\n",
       "            background-color:  #a6c4fe;\n",
       "            color:  #000000;\n",
       "        }    #T_a8370cca_a91b_11ea_9c60_9cda3ef7bab0row3_col7 {\n",
       "            background-color:  #edd1c2;\n",
       "            color:  #000000;\n",
       "        }    #T_a8370cca_a91b_11ea_9c60_9cda3ef7bab0row3_col8 {\n",
       "            background-color:  #ecd3c5;\n",
       "            color:  #000000;\n",
       "        }    #T_a8370cca_a91b_11ea_9c60_9cda3ef7bab0row3_col9 {\n",
       "            background-color:  #e2dad5;\n",
       "            color:  #000000;\n",
       "        }    #T_a8370cca_a91b_11ea_9c60_9cda3ef7bab0row3_col10 {\n",
       "            background-color:  #f2cbb7;\n",
       "            color:  #000000;\n",
       "        }    #T_a8370cca_a91b_11ea_9c60_9cda3ef7bab0row4_col0 {\n",
       "            background-color:  #a2c1ff;\n",
       "            color:  #000000;\n",
       "        }    #T_a8370cca_a91b_11ea_9c60_9cda3ef7bab0row4_col1 {\n",
       "            background-color:  #9ebeff;\n",
       "            color:  #000000;\n",
       "        }    #T_a8370cca_a91b_11ea_9c60_9cda3ef7bab0row4_col2 {\n",
       "            background-color:  #cfdaea;\n",
       "            color:  #000000;\n",
       "        }    #T_a8370cca_a91b_11ea_9c60_9cda3ef7bab0row4_col3 {\n",
       "            background-color:  #b2ccfb;\n",
       "            color:  #000000;\n",
       "        }    #T_a8370cca_a91b_11ea_9c60_9cda3ef7bab0row4_col4 {\n",
       "            background-color:  #b40426;\n",
       "            color:  #f1f1f1;\n",
       "        }    #T_a8370cca_a91b_11ea_9c60_9cda3ef7bab0row4_col5 {\n",
       "            background-color:  #d24b40;\n",
       "            color:  #f1f1f1;\n",
       "        }    #T_a8370cca_a91b_11ea_9c60_9cda3ef7bab0row4_col6 {\n",
       "            background-color:  #d1dae9;\n",
       "            color:  #000000;\n",
       "        }    #T_a8370cca_a91b_11ea_9c60_9cda3ef7bab0row4_col7 {\n",
       "            background-color:  #f59f80;\n",
       "            color:  #000000;\n",
       "        }    #T_a8370cca_a91b_11ea_9c60_9cda3ef7bab0row4_col8 {\n",
       "            background-color:  #f7bca1;\n",
       "            color:  #000000;\n",
       "        }    #T_a8370cca_a91b_11ea_9c60_9cda3ef7bab0row4_col9 {\n",
       "            background-color:  #d5dbe5;\n",
       "            color:  #000000;\n",
       "        }    #T_a8370cca_a91b_11ea_9c60_9cda3ef7bab0row4_col10 {\n",
       "            background-color:  #cbd8ee;\n",
       "            color:  #000000;\n",
       "        }    #T_a8370cca_a91b_11ea_9c60_9cda3ef7bab0row5_col0 {\n",
       "            background-color:  #96b7ff;\n",
       "            color:  #000000;\n",
       "        }    #T_a8370cca_a91b_11ea_9c60_9cda3ef7bab0row5_col1 {\n",
       "            background-color:  #b9d0f9;\n",
       "            color:  #000000;\n",
       "        }    #T_a8370cca_a91b_11ea_9c60_9cda3ef7bab0row5_col2 {\n",
       "            background-color:  #d2dbe8;\n",
       "            color:  #000000;\n",
       "        }    #T_a8370cca_a91b_11ea_9c60_9cda3ef7bab0row5_col3 {\n",
       "            background-color:  #a2c1ff;\n",
       "            color:  #000000;\n",
       "        }    #T_a8370cca_a91b_11ea_9c60_9cda3ef7bab0row5_col4 {\n",
       "            background-color:  #d85646;\n",
       "            color:  #000000;\n",
       "        }    #T_a8370cca_a91b_11ea_9c60_9cda3ef7bab0row5_col5 {\n",
       "            background-color:  #b40426;\n",
       "            color:  #f1f1f1;\n",
       "        }    #T_a8370cca_a91b_11ea_9c60_9cda3ef7bab0row5_col6 {\n",
       "            background-color:  #a2c1ff;\n",
       "            color:  #000000;\n",
       "        }    #T_a8370cca_a91b_11ea_9c60_9cda3ef7bab0row5_col7 {\n",
       "            background-color:  #ed8366;\n",
       "            color:  #000000;\n",
       "        }    #T_a8370cca_a91b_11ea_9c60_9cda3ef7bab0row5_col8 {\n",
       "            background-color:  #e0dbd8;\n",
       "            color:  #000000;\n",
       "        }    #T_a8370cca_a91b_11ea_9c60_9cda3ef7bab0row5_col9 {\n",
       "            background-color:  #cdd9ec;\n",
       "            color:  #000000;\n",
       "        }    #T_a8370cca_a91b_11ea_9c60_9cda3ef7bab0row5_col10 {\n",
       "            background-color:  #c3d5f4;\n",
       "            color:  #000000;\n",
       "        }    #T_a8370cca_a91b_11ea_9c60_9cda3ef7bab0row6_col0 {\n",
       "            background-color:  #3b4cc0;\n",
       "            color:  #f1f1f1;\n",
       "        }    #T_a8370cca_a91b_11ea_9c60_9cda3ef7bab0row6_col1 {\n",
       "            background-color:  #3b4cc0;\n",
       "            color:  #f1f1f1;\n",
       "        }    #T_a8370cca_a91b_11ea_9c60_9cda3ef7bab0row6_col2 {\n",
       "            background-color:  #3b4cc0;\n",
       "            color:  #f1f1f1;\n",
       "        }    #T_a8370cca_a91b_11ea_9c60_9cda3ef7bab0row6_col3 {\n",
       "            background-color:  #3b4cc0;\n",
       "            color:  #f1f1f1;\n",
       "        }    #T_a8370cca_a91b_11ea_9c60_9cda3ef7bab0row6_col4 {\n",
       "            background-color:  #3f53c6;\n",
       "            color:  #f1f1f1;\n",
       "        }    #T_a8370cca_a91b_11ea_9c60_9cda3ef7bab0row6_col5 {\n",
       "            background-color:  #3b4cc0;\n",
       "            color:  #f1f1f1;\n",
       "        }    #T_a8370cca_a91b_11ea_9c60_9cda3ef7bab0row6_col6 {\n",
       "            background-color:  #b40426;\n",
       "            color:  #f1f1f1;\n",
       "        }    #T_a8370cca_a91b_11ea_9c60_9cda3ef7bab0row6_col7 {\n",
       "            background-color:  #3b4cc0;\n",
       "            color:  #f1f1f1;\n",
       "        }    #T_a8370cca_a91b_11ea_9c60_9cda3ef7bab0row6_col8 {\n",
       "            background-color:  #3b4cc0;\n",
       "            color:  #f1f1f1;\n",
       "        }    #T_a8370cca_a91b_11ea_9c60_9cda3ef7bab0row6_col9 {\n",
       "            background-color:  #3b4cc0;\n",
       "            color:  #f1f1f1;\n",
       "        }    #T_a8370cca_a91b_11ea_9c60_9cda3ef7bab0row6_col10 {\n",
       "            background-color:  #3b4cc0;\n",
       "            color:  #f1f1f1;\n",
       "        }    #T_a8370cca_a91b_11ea_9c60_9cda3ef7bab0row7_col0 {\n",
       "            background-color:  #90b2fe;\n",
       "            color:  #000000;\n",
       "        }    #T_a8370cca_a91b_11ea_9c60_9cda3ef7bab0row7_col1 {\n",
       "            background-color:  #e1dad6;\n",
       "            color:  #000000;\n",
       "        }    #T_a8370cca_a91b_11ea_9c60_9cda3ef7bab0row7_col2 {\n",
       "            background-color:  #edd1c2;\n",
       "            color:  #000000;\n",
       "        }    #T_a8370cca_a91b_11ea_9c60_9cda3ef7bab0row7_col3 {\n",
       "            background-color:  #b6cefa;\n",
       "            color:  #000000;\n",
       "        }    #T_a8370cca_a91b_11ea_9c60_9cda3ef7bab0row7_col4 {\n",
       "            background-color:  #e3d9d3;\n",
       "            color:  #000000;\n",
       "        }    #T_a8370cca_a91b_11ea_9c60_9cda3ef7bab0row7_col5 {\n",
       "            background-color:  #f7a688;\n",
       "            color:  #000000;\n",
       "        }    #T_a8370cca_a91b_11ea_9c60_9cda3ef7bab0row7_col6 {\n",
       "            background-color:  #3b4cc0;\n",
       "            color:  #f1f1f1;\n",
       "        }    #T_a8370cca_a91b_11ea_9c60_9cda3ef7bab0row7_col7 {\n",
       "            background-color:  #b40426;\n",
       "            color:  #f1f1f1;\n",
       "        }    #T_a8370cca_a91b_11ea_9c60_9cda3ef7bab0row7_col8 {\n",
       "            background-color:  #f6a283;\n",
       "            color:  #000000;\n",
       "        }    #T_a8370cca_a91b_11ea_9c60_9cda3ef7bab0row7_col9 {\n",
       "            background-color:  #e7d7ce;\n",
       "            color:  #000000;\n",
       "        }    #T_a8370cca_a91b_11ea_9c60_9cda3ef7bab0row7_col10 {\n",
       "            background-color:  #f1cdba;\n",
       "            color:  #000000;\n",
       "        }    #T_a8370cca_a91b_11ea_9c60_9cda3ef7bab0row8_col0 {\n",
       "            background-color:  #a6c4fe;\n",
       "            color:  #000000;\n",
       "        }    #T_a8370cca_a91b_11ea_9c60_9cda3ef7bab0row8_col1 {\n",
       "            background-color:  #bbd1f8;\n",
       "            color:  #000000;\n",
       "        }    #T_a8370cca_a91b_11ea_9c60_9cda3ef7bab0row8_col2 {\n",
       "            background-color:  #f1ccb8;\n",
       "            color:  #000000;\n",
       "        }    #T_a8370cca_a91b_11ea_9c60_9cda3ef7bab0row8_col3 {\n",
       "            background-color:  #d9dce1;\n",
       "            color:  #000000;\n",
       "        }    #T_a8370cca_a91b_11ea_9c60_9cda3ef7bab0row8_col4 {\n",
       "            background-color:  #dcdddd;\n",
       "            color:  #000000;\n",
       "        }    #T_a8370cca_a91b_11ea_9c60_9cda3ef7bab0row8_col5 {\n",
       "            background-color:  #cad8ef;\n",
       "            color:  #000000;\n",
       "        }    #T_a8370cca_a91b_11ea_9c60_9cda3ef7bab0row8_col6 {\n",
       "            background-color:  #7a9df8;\n",
       "            color:  #000000;\n",
       "        }    #T_a8370cca_a91b_11ea_9c60_9cda3ef7bab0row8_col7 {\n",
       "            background-color:  #f18d6f;\n",
       "            color:  #000000;\n",
       "        }    #T_a8370cca_a91b_11ea_9c60_9cda3ef7bab0row8_col8 {\n",
       "            background-color:  #b40426;\n",
       "            color:  #f1f1f1;\n",
       "        }    #T_a8370cca_a91b_11ea_9c60_9cda3ef7bab0row8_col9 {\n",
       "            background-color:  #efcfbf;\n",
       "            color:  #000000;\n",
       "        }    #T_a8370cca_a91b_11ea_9c60_9cda3ef7bab0row8_col10 {\n",
       "            background-color:  #f7b093;\n",
       "            color:  #000000;\n",
       "        }    #T_a8370cca_a91b_11ea_9c60_9cda3ef7bab0row9_col0 {\n",
       "            background-color:  #afcafc;\n",
       "            color:  #000000;\n",
       "        }    #T_a8370cca_a91b_11ea_9c60_9cda3ef7bab0row9_col1 {\n",
       "            background-color:  #c9d7f0;\n",
       "            color:  #000000;\n",
       "        }    #T_a8370cca_a91b_11ea_9c60_9cda3ef7bab0row9_col2 {\n",
       "            background-color:  #ead5c9;\n",
       "            color:  #000000;\n",
       "        }    #T_a8370cca_a91b_11ea_9c60_9cda3ef7bab0row9_col3 {\n",
       "            background-color:  #d8dce2;\n",
       "            color:  #000000;\n",
       "        }    #T_a8370cca_a91b_11ea_9c60_9cda3ef7bab0row9_col4 {\n",
       "            background-color:  #9fbfff;\n",
       "            color:  #000000;\n",
       "        }    #T_a8370cca_a91b_11ea_9c60_9cda3ef7bab0row9_col5 {\n",
       "            background-color:  #c3d5f4;\n",
       "            color:  #000000;\n",
       "        }    #T_a8370cca_a91b_11ea_9c60_9cda3ef7bab0row9_col6 {\n",
       "            background-color:  #93b5fe;\n",
       "            color:  #000000;\n",
       "        }    #T_a8370cca_a91b_11ea_9c60_9cda3ef7bab0row9_col7 {\n",
       "            background-color:  #f7b89c;\n",
       "            color:  #000000;\n",
       "        }    #T_a8370cca_a91b_11ea_9c60_9cda3ef7bab0row9_col8 {\n",
       "            background-color:  #f4c6af;\n",
       "            color:  #000000;\n",
       "        }    #T_a8370cca_a91b_11ea_9c60_9cda3ef7bab0row9_col9 {\n",
       "            background-color:  #b40426;\n",
       "            color:  #f1f1f1;\n",
       "        }    #T_a8370cca_a91b_11ea_9c60_9cda3ef7bab0row9_col10 {\n",
       "            background-color:  #ead4c8;\n",
       "            color:  #000000;\n",
       "        }    #T_a8370cca_a91b_11ea_9c60_9cda3ef7bab0row10_col0 {\n",
       "            background-color:  #8badfd;\n",
       "            color:  #000000;\n",
       "        }    #T_a8370cca_a91b_11ea_9c60_9cda3ef7bab0row10_col1 {\n",
       "            background-color:  #a1c0ff;\n",
       "            color:  #000000;\n",
       "        }    #T_a8370cca_a91b_11ea_9c60_9cda3ef7bab0row10_col2 {\n",
       "            background-color:  #f7ad90;\n",
       "            color:  #000000;\n",
       "        }    #T_a8370cca_a91b_11ea_9c60_9cda3ef7bab0row10_col3 {\n",
       "            background-color:  #e3d9d3;\n",
       "            color:  #000000;\n",
       "        }    #T_a8370cca_a91b_11ea_9c60_9cda3ef7bab0row10_col4 {\n",
       "            background-color:  #7597f6;\n",
       "            color:  #000000;\n",
       "        }    #T_a8370cca_a91b_11ea_9c60_9cda3ef7bab0row10_col5 {\n",
       "            background-color:  #a2c1ff;\n",
       "            color:  #000000;\n",
       "        }    #T_a8370cca_a91b_11ea_9c60_9cda3ef7bab0row10_col6 {\n",
       "            background-color:  #7a9df8;\n",
       "            color:  #000000;\n",
       "        }    #T_a8370cca_a91b_11ea_9c60_9cda3ef7bab0row10_col7 {\n",
       "            background-color:  #f7b599;\n",
       "            color:  #000000;\n",
       "        }    #T_a8370cca_a91b_11ea_9c60_9cda3ef7bab0row10_col8 {\n",
       "            background-color:  #f7b093;\n",
       "            color:  #000000;\n",
       "        }    #T_a8370cca_a91b_11ea_9c60_9cda3ef7bab0row10_col9 {\n",
       "            background-color:  #e0dbd8;\n",
       "            color:  #000000;\n",
       "        }    #T_a8370cca_a91b_11ea_9c60_9cda3ef7bab0row10_col10 {\n",
       "            background-color:  #b40426;\n",
       "            color:  #f1f1f1;\n",
       "        }</style><table id=\"T_a8370cca_a91b_11ea_9c60_9cda3ef7bab0\" ><thead>    <tr>        <th class=\"blank level0\" ></th>        <th class=\"col_heading level0 col0\" >age</th>        <th class=\"col_heading level0 col1\" >sex</th>        <th class=\"col_heading level0 col2\" >bmi</th>        <th class=\"col_heading level0 col3\" >bp</th>        <th class=\"col_heading level0 col4\" >s1</th>        <th class=\"col_heading level0 col5\" >s2</th>        <th class=\"col_heading level0 col6\" >s3</th>        <th class=\"col_heading level0 col7\" >s4</th>        <th class=\"col_heading level0 col8\" >s5</th>        <th class=\"col_heading level0 col9\" >s6</th>        <th class=\"col_heading level0 col10\" >sugar-level</th>    </tr></thead><tbody>\n",
       "                <tr>\n",
       "                        <th id=\"T_a8370cca_a91b_11ea_9c60_9cda3ef7bab0level0_row0\" class=\"row_heading level0 row0\" >age</th>\n",
       "                        <td id=\"T_a8370cca_a91b_11ea_9c60_9cda3ef7bab0row0_col0\" class=\"data row0 col0\" >1.000000</td>\n",
       "                        <td id=\"T_a8370cca_a91b_11ea_9c60_9cda3ef7bab0row0_col1\" class=\"data row0 col1\" >0.173737</td>\n",
       "                        <td id=\"T_a8370cca_a91b_11ea_9c60_9cda3ef7bab0row0_col2\" class=\"data row0 col2\" >0.185085</td>\n",
       "                        <td id=\"T_a8370cca_a91b_11ea_9c60_9cda3ef7bab0row0_col3\" class=\"data row0 col3\" >0.335427</td>\n",
       "                        <td id=\"T_a8370cca_a91b_11ea_9c60_9cda3ef7bab0row0_col4\" class=\"data row0 col4\" >0.260061</td>\n",
       "                        <td id=\"T_a8370cca_a91b_11ea_9c60_9cda3ef7bab0row0_col5\" class=\"data row0 col5\" >0.219243</td>\n",
       "                        <td id=\"T_a8370cca_a91b_11ea_9c60_9cda3ef7bab0row0_col6\" class=\"data row0 col6\" >-0.075181</td>\n",
       "                        <td id=\"T_a8370cca_a91b_11ea_9c60_9cda3ef7bab0row0_col7\" class=\"data row0 col7\" >0.203841</td>\n",
       "                        <td id=\"T_a8370cca_a91b_11ea_9c60_9cda3ef7bab0row0_col8\" class=\"data row0 col8\" >0.270777</td>\n",
       "                        <td id=\"T_a8370cca_a91b_11ea_9c60_9cda3ef7bab0row0_col9\" class=\"data row0 col9\" >0.301731</td>\n",
       "                        <td id=\"T_a8370cca_a91b_11ea_9c60_9cda3ef7bab0row0_col10\" class=\"data row0 col10\" >0.187889</td>\n",
       "            </tr>\n",
       "            <tr>\n",
       "                        <th id=\"T_a8370cca_a91b_11ea_9c60_9cda3ef7bab0level0_row1\" class=\"row_heading level0 row1\" >sex</th>\n",
       "                        <td id=\"T_a8370cca_a91b_11ea_9c60_9cda3ef7bab0row1_col0\" class=\"data row1 col0\" >0.173737</td>\n",
       "                        <td id=\"T_a8370cca_a91b_11ea_9c60_9cda3ef7bab0row1_col1\" class=\"data row1 col1\" >1.000000</td>\n",
       "                        <td id=\"T_a8370cca_a91b_11ea_9c60_9cda3ef7bab0row1_col2\" class=\"data row1 col2\" >0.088161</td>\n",
       "                        <td id=\"T_a8370cca_a91b_11ea_9c60_9cda3ef7bab0row1_col3\" class=\"data row1 col3\" >0.241013</td>\n",
       "                        <td id=\"T_a8370cca_a91b_11ea_9c60_9cda3ef7bab0row1_col4\" class=\"data row1 col4\" >0.035277</td>\n",
       "                        <td id=\"T_a8370cca_a91b_11ea_9c60_9cda3ef7bab0row1_col5\" class=\"data row1 col5\" >0.142637</td>\n",
       "                        <td id=\"T_a8370cca_a91b_11ea_9c60_9cda3ef7bab0row1_col6\" class=\"data row1 col6\" >-0.379090</td>\n",
       "                        <td id=\"T_a8370cca_a91b_11ea_9c60_9cda3ef7bab0row1_col7\" class=\"data row1 col7\" >0.332115</td>\n",
       "                        <td id=\"T_a8370cca_a91b_11ea_9c60_9cda3ef7bab0row1_col8\" class=\"data row1 col8\" >0.149918</td>\n",
       "                        <td id=\"T_a8370cca_a91b_11ea_9c60_9cda3ef7bab0row1_col9\" class=\"data row1 col9\" >0.208133</td>\n",
       "                        <td id=\"T_a8370cca_a91b_11ea_9c60_9cda3ef7bab0row1_col10\" class=\"data row1 col10\" >0.043062</td>\n",
       "            </tr>\n",
       "            <tr>\n",
       "                        <th id=\"T_a8370cca_a91b_11ea_9c60_9cda3ef7bab0level0_row2\" class=\"row_heading level0 row2\" >bmi</th>\n",
       "                        <td id=\"T_a8370cca_a91b_11ea_9c60_9cda3ef7bab0row2_col0\" class=\"data row2 col0\" >0.185085</td>\n",
       "                        <td id=\"T_a8370cca_a91b_11ea_9c60_9cda3ef7bab0row2_col1\" class=\"data row2 col1\" >0.088161</td>\n",
       "                        <td id=\"T_a8370cca_a91b_11ea_9c60_9cda3ef7bab0row2_col2\" class=\"data row2 col2\" >1.000000</td>\n",
       "                        <td id=\"T_a8370cca_a91b_11ea_9c60_9cda3ef7bab0row2_col3\" class=\"data row2 col3\" >0.395415</td>\n",
       "                        <td id=\"T_a8370cca_a91b_11ea_9c60_9cda3ef7bab0row2_col4\" class=\"data row2 col4\" >0.249777</td>\n",
       "                        <td id=\"T_a8370cca_a91b_11ea_9c60_9cda3ef7bab0row2_col5\" class=\"data row2 col5\" >0.261170</td>\n",
       "                        <td id=\"T_a8370cca_a91b_11ea_9c60_9cda3ef7bab0row2_col6\" class=\"data row2 col6\" >-0.366811</td>\n",
       "                        <td id=\"T_a8370cca_a91b_11ea_9c60_9cda3ef7bab0row2_col7\" class=\"data row2 col7\" >0.413807</td>\n",
       "                        <td id=\"T_a8370cca_a91b_11ea_9c60_9cda3ef7bab0row2_col8\" class=\"data row2 col8\" >0.446159</td>\n",
       "                        <td id=\"T_a8370cca_a91b_11ea_9c60_9cda3ef7bab0row2_col9\" class=\"data row2 col9\" >0.388680</td>\n",
       "                        <td id=\"T_a8370cca_a91b_11ea_9c60_9cda3ef7bab0row2_col10\" class=\"data row2 col10\" >0.586450</td>\n",
       "            </tr>\n",
       "            <tr>\n",
       "                        <th id=\"T_a8370cca_a91b_11ea_9c60_9cda3ef7bab0level0_row3\" class=\"row_heading level0 row3\" >bp</th>\n",
       "                        <td id=\"T_a8370cca_a91b_11ea_9c60_9cda3ef7bab0row3_col0\" class=\"data row3 col0\" >0.335427</td>\n",
       "                        <td id=\"T_a8370cca_a91b_11ea_9c60_9cda3ef7bab0row3_col1\" class=\"data row3 col1\" >0.241013</td>\n",
       "                        <td id=\"T_a8370cca_a91b_11ea_9c60_9cda3ef7bab0row3_col2\" class=\"data row3 col2\" >0.395415</td>\n",
       "                        <td id=\"T_a8370cca_a91b_11ea_9c60_9cda3ef7bab0row3_col3\" class=\"data row3 col3\" >1.000000</td>\n",
       "                        <td id=\"T_a8370cca_a91b_11ea_9c60_9cda3ef7bab0row3_col4\" class=\"data row3 col4\" >0.242470</td>\n",
       "                        <td id=\"T_a8370cca_a91b_11ea_9c60_9cda3ef7bab0row3_col5\" class=\"data row3 col5\" >0.185558</td>\n",
       "                        <td id=\"T_a8370cca_a91b_11ea_9c60_9cda3ef7bab0row3_col6\" class=\"data row3 col6\" >-0.178761</td>\n",
       "                        <td id=\"T_a8370cca_a91b_11ea_9c60_9cda3ef7bab0row3_col7\" class=\"data row3 col7\" >0.257653</td>\n",
       "                        <td id=\"T_a8370cca_a91b_11ea_9c60_9cda3ef7bab0row3_col8\" class=\"data row3 col8\" >0.393478</td>\n",
       "                        <td id=\"T_a8370cca_a91b_11ea_9c60_9cda3ef7bab0row3_col9\" class=\"data row3 col9\" >0.390429</td>\n",
       "                        <td id=\"T_a8370cca_a91b_11ea_9c60_9cda3ef7bab0row3_col10\" class=\"data row3 col10\" >0.441484</td>\n",
       "            </tr>\n",
       "            <tr>\n",
       "                        <th id=\"T_a8370cca_a91b_11ea_9c60_9cda3ef7bab0level0_row4\" class=\"row_heading level0 row4\" >s1</th>\n",
       "                        <td id=\"T_a8370cca_a91b_11ea_9c60_9cda3ef7bab0row4_col0\" class=\"data row4 col0\" >0.260061</td>\n",
       "                        <td id=\"T_a8370cca_a91b_11ea_9c60_9cda3ef7bab0row4_col1\" class=\"data row4 col1\" >0.035277</td>\n",
       "                        <td id=\"T_a8370cca_a91b_11ea_9c60_9cda3ef7bab0row4_col2\" class=\"data row4 col2\" >0.249777</td>\n",
       "                        <td id=\"T_a8370cca_a91b_11ea_9c60_9cda3ef7bab0row4_col3\" class=\"data row4 col3\" >0.242470</td>\n",
       "                        <td id=\"T_a8370cca_a91b_11ea_9c60_9cda3ef7bab0row4_col4\" class=\"data row4 col4\" >1.000000</td>\n",
       "                        <td id=\"T_a8370cca_a91b_11ea_9c60_9cda3ef7bab0row4_col5\" class=\"data row4 col5\" >0.896663</td>\n",
       "                        <td id=\"T_a8370cca_a91b_11ea_9c60_9cda3ef7bab0row4_col6\" class=\"data row4 col6\" >0.051519</td>\n",
       "                        <td id=\"T_a8370cca_a91b_11ea_9c60_9cda3ef7bab0row4_col7\" class=\"data row4 col7\" >0.542207</td>\n",
       "                        <td id=\"T_a8370cca_a91b_11ea_9c60_9cda3ef7bab0row4_col8\" class=\"data row4 col8\" >0.515501</td>\n",
       "                        <td id=\"T_a8370cca_a91b_11ea_9c60_9cda3ef7bab0row4_col9\" class=\"data row4 col9\" >0.325717</td>\n",
       "                        <td id=\"T_a8370cca_a91b_11ea_9c60_9cda3ef7bab0row4_col10\" class=\"data row4 col10\" >0.212022</td>\n",
       "            </tr>\n",
       "            <tr>\n",
       "                        <th id=\"T_a8370cca_a91b_11ea_9c60_9cda3ef7bab0level0_row5\" class=\"row_heading level0 row5\" >s2</th>\n",
       "                        <td id=\"T_a8370cca_a91b_11ea_9c60_9cda3ef7bab0row5_col0\" class=\"data row5 col0\" >0.219243</td>\n",
       "                        <td id=\"T_a8370cca_a91b_11ea_9c60_9cda3ef7bab0row5_col1\" class=\"data row5 col1\" >0.142637</td>\n",
       "                        <td id=\"T_a8370cca_a91b_11ea_9c60_9cda3ef7bab0row5_col2\" class=\"data row5 col2\" >0.261170</td>\n",
       "                        <td id=\"T_a8370cca_a91b_11ea_9c60_9cda3ef7bab0row5_col3\" class=\"data row5 col3\" >0.185558</td>\n",
       "                        <td id=\"T_a8370cca_a91b_11ea_9c60_9cda3ef7bab0row5_col4\" class=\"data row5 col4\" >0.896663</td>\n",
       "                        <td id=\"T_a8370cca_a91b_11ea_9c60_9cda3ef7bab0row5_col5\" class=\"data row5 col5\" >1.000000</td>\n",
       "                        <td id=\"T_a8370cca_a91b_11ea_9c60_9cda3ef7bab0row5_col6\" class=\"data row5 col6\" >-0.196455</td>\n",
       "                        <td id=\"T_a8370cca_a91b_11ea_9c60_9cda3ef7bab0row5_col7\" class=\"data row5 col7\" >0.659817</td>\n",
       "                        <td id=\"T_a8370cca_a91b_11ea_9c60_9cda3ef7bab0row5_col8\" class=\"data row5 col8\" >0.318353</td>\n",
       "                        <td id=\"T_a8370cca_a91b_11ea_9c60_9cda3ef7bab0row5_col9\" class=\"data row5 col9\" >0.290600</td>\n",
       "                        <td id=\"T_a8370cca_a91b_11ea_9c60_9cda3ef7bab0row5_col10\" class=\"data row5 col10\" >0.174054</td>\n",
       "            </tr>\n",
       "            <tr>\n",
       "                        <th id=\"T_a8370cca_a91b_11ea_9c60_9cda3ef7bab0level0_row6\" class=\"row_heading level0 row6\" >s3</th>\n",
       "                        <td id=\"T_a8370cca_a91b_11ea_9c60_9cda3ef7bab0row6_col0\" class=\"data row6 col0\" >-0.075181</td>\n",
       "                        <td id=\"T_a8370cca_a91b_11ea_9c60_9cda3ef7bab0row6_col1\" class=\"data row6 col1\" >-0.379090</td>\n",
       "                        <td id=\"T_a8370cca_a91b_11ea_9c60_9cda3ef7bab0row6_col2\" class=\"data row6 col2\" >-0.366811</td>\n",
       "                        <td id=\"T_a8370cca_a91b_11ea_9c60_9cda3ef7bab0row6_col3\" class=\"data row6 col3\" >-0.178761</td>\n",
       "                        <td id=\"T_a8370cca_a91b_11ea_9c60_9cda3ef7bab0row6_col4\" class=\"data row6 col4\" >0.051519</td>\n",
       "                        <td id=\"T_a8370cca_a91b_11ea_9c60_9cda3ef7bab0row6_col5\" class=\"data row6 col5\" >-0.196455</td>\n",
       "                        <td id=\"T_a8370cca_a91b_11ea_9c60_9cda3ef7bab0row6_col6\" class=\"data row6 col6\" >1.000000</td>\n",
       "                        <td id=\"T_a8370cca_a91b_11ea_9c60_9cda3ef7bab0row6_col7\" class=\"data row6 col7\" >-0.738493</td>\n",
       "                        <td id=\"T_a8370cca_a91b_11ea_9c60_9cda3ef7bab0row6_col8\" class=\"data row6 col8\" >-0.398577</td>\n",
       "                        <td id=\"T_a8370cca_a91b_11ea_9c60_9cda3ef7bab0row6_col9\" class=\"data row6 col9\" >-0.273697</td>\n",
       "                        <td id=\"T_a8370cca_a91b_11ea_9c60_9cda3ef7bab0row6_col10\" class=\"data row6 col10\" >-0.394789</td>\n",
       "            </tr>\n",
       "            <tr>\n",
       "                        <th id=\"T_a8370cca_a91b_11ea_9c60_9cda3ef7bab0level0_row7\" class=\"row_heading level0 row7\" >s4</th>\n",
       "                        <td id=\"T_a8370cca_a91b_11ea_9c60_9cda3ef7bab0row7_col0\" class=\"data row7 col0\" >0.203841</td>\n",
       "                        <td id=\"T_a8370cca_a91b_11ea_9c60_9cda3ef7bab0row7_col1\" class=\"data row7 col1\" >0.332115</td>\n",
       "                        <td id=\"T_a8370cca_a91b_11ea_9c60_9cda3ef7bab0row7_col2\" class=\"data row7 col2\" >0.413807</td>\n",
       "                        <td id=\"T_a8370cca_a91b_11ea_9c60_9cda3ef7bab0row7_col3\" class=\"data row7 col3\" >0.257653</td>\n",
       "                        <td id=\"T_a8370cca_a91b_11ea_9c60_9cda3ef7bab0row7_col4\" class=\"data row7 col4\" >0.542207</td>\n",
       "                        <td id=\"T_a8370cca_a91b_11ea_9c60_9cda3ef7bab0row7_col5\" class=\"data row7 col5\" >0.659817</td>\n",
       "                        <td id=\"T_a8370cca_a91b_11ea_9c60_9cda3ef7bab0row7_col6\" class=\"data row7 col6\" >-0.738493</td>\n",
       "                        <td id=\"T_a8370cca_a91b_11ea_9c60_9cda3ef7bab0row7_col7\" class=\"data row7 col7\" >1.000000</td>\n",
       "                        <td id=\"T_a8370cca_a91b_11ea_9c60_9cda3ef7bab0row7_col8\" class=\"data row7 col8\" >0.617857</td>\n",
       "                        <td id=\"T_a8370cca_a91b_11ea_9c60_9cda3ef7bab0row7_col9\" class=\"data row7 col9\" >0.417212</td>\n",
       "                        <td id=\"T_a8370cca_a91b_11ea_9c60_9cda3ef7bab0row7_col10\" class=\"data row7 col10\" >0.430453</td>\n",
       "            </tr>\n",
       "            <tr>\n",
       "                        <th id=\"T_a8370cca_a91b_11ea_9c60_9cda3ef7bab0level0_row8\" class=\"row_heading level0 row8\" >s5</th>\n",
       "                        <td id=\"T_a8370cca_a91b_11ea_9c60_9cda3ef7bab0row8_col0\" class=\"data row8 col0\" >0.270777</td>\n",
       "                        <td id=\"T_a8370cca_a91b_11ea_9c60_9cda3ef7bab0row8_col1\" class=\"data row8 col1\" >0.149918</td>\n",
       "                        <td id=\"T_a8370cca_a91b_11ea_9c60_9cda3ef7bab0row8_col2\" class=\"data row8 col2\" >0.446159</td>\n",
       "                        <td id=\"T_a8370cca_a91b_11ea_9c60_9cda3ef7bab0row8_col3\" class=\"data row8 col3\" >0.393478</td>\n",
       "                        <td id=\"T_a8370cca_a91b_11ea_9c60_9cda3ef7bab0row8_col4\" class=\"data row8 col4\" >0.515501</td>\n",
       "                        <td id=\"T_a8370cca_a91b_11ea_9c60_9cda3ef7bab0row8_col5\" class=\"data row8 col5\" >0.318353</td>\n",
       "                        <td id=\"T_a8370cca_a91b_11ea_9c60_9cda3ef7bab0row8_col6\" class=\"data row8 col6\" >-0.398577</td>\n",
       "                        <td id=\"T_a8370cca_a91b_11ea_9c60_9cda3ef7bab0row8_col7\" class=\"data row8 col7\" >0.617857</td>\n",
       "                        <td id=\"T_a8370cca_a91b_11ea_9c60_9cda3ef7bab0row8_col8\" class=\"data row8 col8\" >1.000000</td>\n",
       "                        <td id=\"T_a8370cca_a91b_11ea_9c60_9cda3ef7bab0row8_col9\" class=\"data row8 col9\" >0.464670</td>\n",
       "                        <td id=\"T_a8370cca_a91b_11ea_9c60_9cda3ef7bab0row8_col10\" class=\"data row8 col10\" >0.565883</td>\n",
       "            </tr>\n",
       "            <tr>\n",
       "                        <th id=\"T_a8370cca_a91b_11ea_9c60_9cda3ef7bab0level0_row9\" class=\"row_heading level0 row9\" >s6</th>\n",
       "                        <td id=\"T_a8370cca_a91b_11ea_9c60_9cda3ef7bab0row9_col0\" class=\"data row9 col0\" >0.301731</td>\n",
       "                        <td id=\"T_a8370cca_a91b_11ea_9c60_9cda3ef7bab0row9_col1\" class=\"data row9 col1\" >0.208133</td>\n",
       "                        <td id=\"T_a8370cca_a91b_11ea_9c60_9cda3ef7bab0row9_col2\" class=\"data row9 col2\" >0.388680</td>\n",
       "                        <td id=\"T_a8370cca_a91b_11ea_9c60_9cda3ef7bab0row9_col3\" class=\"data row9 col3\" >0.390429</td>\n",
       "                        <td id=\"T_a8370cca_a91b_11ea_9c60_9cda3ef7bab0row9_col4\" class=\"data row9 col4\" >0.325717</td>\n",
       "                        <td id=\"T_a8370cca_a91b_11ea_9c60_9cda3ef7bab0row9_col5\" class=\"data row9 col5\" >0.290600</td>\n",
       "                        <td id=\"T_a8370cca_a91b_11ea_9c60_9cda3ef7bab0row9_col6\" class=\"data row9 col6\" >-0.273697</td>\n",
       "                        <td id=\"T_a8370cca_a91b_11ea_9c60_9cda3ef7bab0row9_col7\" class=\"data row9 col7\" >0.417212</td>\n",
       "                        <td id=\"T_a8370cca_a91b_11ea_9c60_9cda3ef7bab0row9_col8\" class=\"data row9 col8\" >0.464670</td>\n",
       "                        <td id=\"T_a8370cca_a91b_11ea_9c60_9cda3ef7bab0row9_col9\" class=\"data row9 col9\" >1.000000</td>\n",
       "                        <td id=\"T_a8370cca_a91b_11ea_9c60_9cda3ef7bab0row9_col10\" class=\"data row9 col10\" >0.382483</td>\n",
       "            </tr>\n",
       "            <tr>\n",
       "                        <th id=\"T_a8370cca_a91b_11ea_9c60_9cda3ef7bab0level0_row10\" class=\"row_heading level0 row10\" >sugar-level</th>\n",
       "                        <td id=\"T_a8370cca_a91b_11ea_9c60_9cda3ef7bab0row10_col0\" class=\"data row10 col0\" >0.187889</td>\n",
       "                        <td id=\"T_a8370cca_a91b_11ea_9c60_9cda3ef7bab0row10_col1\" class=\"data row10 col1\" >0.043062</td>\n",
       "                        <td id=\"T_a8370cca_a91b_11ea_9c60_9cda3ef7bab0row10_col2\" class=\"data row10 col2\" >0.586450</td>\n",
       "                        <td id=\"T_a8370cca_a91b_11ea_9c60_9cda3ef7bab0row10_col3\" class=\"data row10 col3\" >0.441484</td>\n",
       "                        <td id=\"T_a8370cca_a91b_11ea_9c60_9cda3ef7bab0row10_col4\" class=\"data row10 col4\" >0.212022</td>\n",
       "                        <td id=\"T_a8370cca_a91b_11ea_9c60_9cda3ef7bab0row10_col5\" class=\"data row10 col5\" >0.174054</td>\n",
       "                        <td id=\"T_a8370cca_a91b_11ea_9c60_9cda3ef7bab0row10_col6\" class=\"data row10 col6\" >-0.394789</td>\n",
       "                        <td id=\"T_a8370cca_a91b_11ea_9c60_9cda3ef7bab0row10_col7\" class=\"data row10 col7\" >0.430453</td>\n",
       "                        <td id=\"T_a8370cca_a91b_11ea_9c60_9cda3ef7bab0row10_col8\" class=\"data row10 col8\" >0.565883</td>\n",
       "                        <td id=\"T_a8370cca_a91b_11ea_9c60_9cda3ef7bab0row10_col9\" class=\"data row10 col9\" >0.382483</td>\n",
       "                        <td id=\"T_a8370cca_a91b_11ea_9c60_9cda3ef7bab0row10_col10\" class=\"data row10 col10\" >1.000000</td>\n",
       "            </tr>\n",
       "    </tbody></table>"
      ],
      "text/plain": [
       "<pandas.io.formats.style.Styler at 0x1852b04dcc8>"
      ]
     },
     "execution_count": 133,
     "metadata": {},
     "output_type": "execute_result"
    }
   ],
   "source": [
    "df_new.corr().style.background_gradient(cmap='coolwarm')"
   ]
  },
  {
   "cell_type": "markdown",
   "metadata": {},
   "source": [
    "s3 and s4 has high corelation need to drop one.We choose to drop s3 and the predictor"
   ]
  },
  {
   "cell_type": "code",
   "execution_count": 28,
   "metadata": {},
   "outputs": [],
   "source": [
    "X=df_new.drop(columns=['s3','sugar-level'])"
   ]
  },
  {
   "cell_type": "code",
   "execution_count": 29,
   "metadata": {},
   "outputs": [
    {
     "name": "stdout",
     "output_type": "stream",
     "text": [
      "<class 'pandas.core.frame.DataFrame'>\n",
      "RangeIndex: 442 entries, 0 to 441\n",
      "Data columns (total 9 columns):\n",
      " #   Column  Non-Null Count  Dtype  \n",
      "---  ------  --------------  -----  \n",
      " 0   age     442 non-null    float64\n",
      " 1   sex     442 non-null    float64\n",
      " 2   bmi     442 non-null    float64\n",
      " 3   bp      442 non-null    float64\n",
      " 4   s1      442 non-null    float64\n",
      " 5   s2      442 non-null    float64\n",
      " 6   s4      442 non-null    float64\n",
      " 7   s5      442 non-null    float64\n",
      " 8   s6      442 non-null    float64\n",
      "dtypes: float64(9)\n",
      "memory usage: 31.2 KB\n"
     ]
    }
   ],
   "source": [
    "X.info()"
   ]
  },
  {
   "cell_type": "code",
   "execution_count": 30,
   "metadata": {},
   "outputs": [
    {
     "name": "stdout",
     "output_type": "stream",
     "text": [
      "<class 'pandas.core.frame.DataFrame'>\n",
      "RangeIndex: 442 entries, 0 to 441\n",
      "Data columns (total 1 columns):\n",
      " #   Column       Non-Null Count  Dtype  \n",
      "---  ------       --------------  -----  \n",
      " 0   sugar-level  442 non-null    float64\n",
      "dtypes: float64(1)\n",
      "memory usage: 3.6 KB\n"
     ]
    }
   ],
   "source": [
    "y=df_new[['sugar-level']]\n",
    "y.info()"
   ]
  },
  {
   "cell_type": "code",
   "execution_count": 32,
   "metadata": {},
   "outputs": [],
   "source": [
    "from sklearn.model_selection import train_test_split\n",
    "X_train, X_test, Y_train, y_test = train_test_split(X, y, test_size=0.2, random_state=0)"
   ]
  },
  {
   "cell_type": "code",
   "execution_count": 33,
   "metadata": {},
   "outputs": [
    {
     "name": "stdout",
     "output_type": "stream",
     "text": [
      "<class 'pandas.core.frame.DataFrame'>\n",
      "Int64Index: 89 entries, 362 to 52\n",
      "Data columns (total 9 columns):\n",
      " #   Column  Non-Null Count  Dtype  \n",
      "---  ------  --------------  -----  \n",
      " 0   age     89 non-null     float64\n",
      " 1   sex     89 non-null     float64\n",
      " 2   bmi     89 non-null     float64\n",
      " 3   bp      89 non-null     float64\n",
      " 4   s1      89 non-null     float64\n",
      " 5   s2      89 non-null     float64\n",
      " 6   s4      89 non-null     float64\n",
      " 7   s5      89 non-null     float64\n",
      " 8   s6      89 non-null     float64\n",
      "dtypes: float64(9)\n",
      "memory usage: 7.0 KB\n"
     ]
    }
   ],
   "source": [
    "X_test.info()"
   ]
  },
  {
   "cell_type": "code",
   "execution_count": 34,
   "metadata": {},
   "outputs": [
    {
     "name": "stdout",
     "output_type": "stream",
     "text": [
      "[152.53445084]\n",
      "[[ -35.19099865 -243.52261505  562.55965871  304.90875025 -622.58930595\n",
      "   296.40181645  156.81272567  718.13895788   43.29365349]]\n"
     ]
    }
   ],
   "source": [
    "# Initialize model\n",
    "regression_model = linear_model.LinearRegression()\n",
    "\n",
    "regression_model.fit(X_train, Y_train)\n",
    "\n",
    "# Check trained model y-intercept\n",
    "print(regression_model.intercept_)\n",
    "\n",
    "# Check trained model coefficients\n",
    "print(regression_model.coef_)"
   ]
  },
  {
   "cell_type": "code",
   "execution_count": 35,
   "metadata": {},
   "outputs": [
    {
     "data": {
      "text/plain": [
       "0.553913841129342"
      ]
     },
     "execution_count": 35,
     "metadata": {},
     "output_type": "execute_result"
    }
   ],
   "source": [
    "regression_model.score(X = X_train, \n",
    "                       y = Y_train)"
   ]
  },
  {
   "cell_type": "code",
   "execution_count": 36,
   "metadata": {},
   "outputs": [
    {
     "data": {
      "text/plain": [
       "0.3316469808470983"
      ]
     },
     "execution_count": 36,
     "metadata": {},
     "output_type": "execute_result"
    }
   ],
   "source": [
    "#test score\n",
    "regression_model.score(X_test, y_test)"
   ]
  },
  {
   "cell_type": "markdown",
   "metadata": {},
   "source": [
    "Check for Outliers"
   ]
  },
  {
   "cell_type": "code",
   "execution_count": 37,
   "metadata": {},
   "outputs": [
    {
     "data": {
      "text/plain": [
       "<matplotlib.axes._subplots.AxesSubplot at 0x1852b05f388>"
      ]
     },
     "execution_count": 37,
     "metadata": {},
     "output_type": "execute_result"
    },
    {
     "data": {
      "image/png": "[encoded data removed]",
      "text/plain": [
       "<Figure size 432x288 with 1 Axes>"
      ]
     },
     "metadata": {},
     "output_type": "display_data"
    }
   ],
   "source": [
    "#Check outliers\n",
    "import seaborn as sns\n",
    "sns.boxplot(x=X['age'])"
   ]
  },
  {
   "cell_type": "code",
   "execution_count": 38,
   "metadata": {},
   "outputs": [
    {
     "data": {
      "text/plain": [
       "<matplotlib.axes._subplots.AxesSubplot at 0x1852b0ba7c8>"
      ]
     },
     "execution_count": 38,
     "metadata": {},
     "output_type": "execute_result"
    },
    {
     "data": {
      "image/png": "[encoded data removed]",
      "text/plain": [
       "<Figure size 432x288 with 1 Axes>"
      ]
     },
     "metadata": {},
     "output_type": "display_data"
    }
   ],
   "source": [
    "#Check outliers\n",
    "import seaborn as sns\n",
    "sns.boxplot(x=X['bmi'])"
   ]
  },
  {
   "cell_type": "code",
   "execution_count": 39,
   "metadata": {},
   "outputs": [
    {
     "data": {
      "text/plain": [
       "<matplotlib.axes._subplots.AxesSubplot at 0x1852b0fe988>"
      ]
     },
     "execution_count": 39,
     "metadata": {},
     "output_type": "execute_result"
    },
    {
     "data": {
      "image/png": "[encoded data removed]",
      "text/plain": [
       "<Figure size 432x288 with 1 Axes>"
      ]
     },
     "metadata": {},
     "output_type": "display_data"
    }
   ],
   "source": [
    "#Check outliers\n",
    "import seaborn as sns\n",
    "sns.boxplot(x=X['bp'])"
   ]
  },
  {
   "cell_type": "code",
   "execution_count": 45,
   "metadata": {},
   "outputs": [
    {
     "name": "stdout",
     "output_type": "stream",
     "text": [
      "age              0.075375\n",
      "sex              0.095322\n",
      "bmi              0.065477\n",
      "bp               0.072300\n",
      "s1               0.062606\n",
      "s2               0.060203\n",
      "s3               0.064429\n",
      "s4               0.073802\n",
      "s5               0.065682\n",
      "s6               0.061096\n",
      "sugar-level    124.500000\n",
      "dtype: float64\n"
     ]
    }
   ],
   "source": [
    "Q1 = df_new.quantile(0.25)\n",
    "Q3 = df_new.quantile(0.75)\n",
    "IQR = Q3 - Q1\n",
    "print(IQR)"
   ]
  },
  {
   "cell_type": "code",
   "execution_count": 46,
   "metadata": {},
   "outputs": [
    {
     "name": "stdout",
     "output_type": "stream",
     "text": [
      "Lower:\n",
      " age            -0.150362\n",
      "sex            -0.187624\n",
      "bmi            -0.132445\n",
      "bp             -0.145107\n",
      "s1             -0.128157\n",
      "s2             -0.120663\n",
      "s3             -0.131760\n",
      "s4             -0.150197\n",
      "s5             -0.131772\n",
      "s6             -0.124823\n",
      "sugar-level   -99.750000\n",
      "dtype: float64\n",
      "Upper:\n",
      " age              0.151139\n",
      "sex              0.193663\n",
      "bmi              0.129464\n",
      "bp               0.144094\n",
      "s1               0.122267\n",
      "s2               0.120149\n",
      "s3               0.125954\n",
      "s4               0.145012\n",
      "s5               0.130956\n",
      "s6               0.119561\n",
      "sugar-level    398.250000\n",
      "dtype: float64\n"
     ]
    }
   ],
   "source": [
    "print('Lower:\\n',Q1 - 1.5 * IQR)\n",
    "print('Upper:\\n',Q3 + 1.5 * IQR)"
   ]
  },
  {
   "cell_type": "code",
   "execution_count": 48,
   "metadata": {},
   "outputs": [
    {
     "data": {
      "text/html": [
       "<div>\n",
       "<style scoped>\n",
       "    .dataframe tbody tr th:only-of-type {\n",
       "        vertical-align: middle;\n",
       "    }\n",
       "\n",
       "    .dataframe tbody tr th {\n",
       "        vertical-align: top;\n",
       "    }\n",
       "\n",
       "    .dataframe thead th {\n",
       "        text-align: right;\n",
       "    }\n",
       "</style>\n",
       "<table border=\"1\" class=\"dataframe\">\n",
       "  <thead>\n",
       "    <tr style=\"text-align: right;\">\n",
       "      <th></th>\n",
       "      <th>age</th>\n",
       "      <th>sex</th>\n",
       "      <th>bmi</th>\n",
       "      <th>bp</th>\n",
       "      <th>s1</th>\n",
       "      <th>s2</th>\n",
       "      <th>s3</th>\n",
       "      <th>s4</th>\n",
       "      <th>s5</th>\n",
       "      <th>s6</th>\n",
       "      <th>sugar-level</th>\n",
       "    </tr>\n",
       "  </thead>\n",
       "  <tbody>\n",
       "    <tr>\n",
       "      <th>256</th>\n",
       "      <td>-0.049105</td>\n",
       "      <td>-0.044642</td>\n",
       "      <td>0.160855</td>\n",
       "      <td>-0.046985</td>\n",
       "      <td>-0.029088</td>\n",
       "      <td>-0.019790</td>\n",
       "      <td>-0.047082</td>\n",
       "      <td>0.034309</td>\n",
       "      <td>0.028017</td>\n",
       "      <td>0.011349</td>\n",
       "      <td>346.0</td>\n",
       "    </tr>\n",
       "    <tr>\n",
       "      <th>366</th>\n",
       "      <td>-0.045472</td>\n",
       "      <td>0.050680</td>\n",
       "      <td>0.137143</td>\n",
       "      <td>-0.015999</td>\n",
       "      <td>0.041086</td>\n",
       "      <td>0.031880</td>\n",
       "      <td>-0.043401</td>\n",
       "      <td>0.071210</td>\n",
       "      <td>0.071022</td>\n",
       "      <td>0.048628</td>\n",
       "      <td>233.0</td>\n",
       "    </tr>\n",
       "    <tr>\n",
       "      <th>367</th>\n",
       "      <td>-0.009147</td>\n",
       "      <td>0.050680</td>\n",
       "      <td>0.170555</td>\n",
       "      <td>0.014987</td>\n",
       "      <td>0.030078</td>\n",
       "      <td>0.033759</td>\n",
       "      <td>-0.021311</td>\n",
       "      <td>0.034309</td>\n",
       "      <td>0.033657</td>\n",
       "      <td>0.032059</td>\n",
       "      <td>242.0</td>\n",
       "    </tr>\n",
       "  </tbody>\n",
       "</table>\n",
       "</div>"
      ],
      "text/plain": [
       "          age       sex       bmi        bp        s1        s2        s3  \\\n",
       "256 -0.049105 -0.044642  0.160855 -0.046985 -0.029088 -0.019790 -0.047082   \n",
       "366 -0.045472  0.050680  0.137143 -0.015999  0.041086  0.031880 -0.043401   \n",
       "367 -0.009147  0.050680  0.170555  0.014987  0.030078  0.033759 -0.021311   \n",
       "\n",
       "           s4        s5        s6  sugar-level  \n",
       "256  0.034309  0.028017  0.011349        346.0  \n",
       "366  0.071210  0.071022  0.048628        233.0  \n",
       "367  0.034309  0.033657  0.032059        242.0  "
      ]
     },
     "execution_count": 48,
     "metadata": {},
     "output_type": "execute_result"
    }
   ],
   "source": [
    "\n",
    "df_new[df_new[\"bmi\"] > 0.129464]"
   ]
  },
  {
   "cell_type": "code",
   "execution_count": 52,
   "metadata": {},
   "outputs": [],
   "source": [
    "#deleting outliers\n",
    "X_out = df_new[~((df_new < (Q1 - 1.5 * IQR)) |\n",
    "                                    (df_new > (Q3 + 1.5 * IQR))).any(axis=1)]"
   ]
  },
  {
   "cell_type": "code",
   "execution_count": 53,
   "metadata": {},
   "outputs": [
    {
     "name": "stdout",
     "output_type": "stream",
     "text": [
      "<class 'pandas.core.frame.DataFrame'>\n",
      "Int64Index: 409 entries, 0 to 440\n",
      "Data columns (total 11 columns):\n",
      " #   Column       Non-Null Count  Dtype  \n",
      "---  ------       --------------  -----  \n",
      " 0   age          409 non-null    float64\n",
      " 1   sex          409 non-null    float64\n",
      " 2   bmi          409 non-null    float64\n",
      " 3   bp           409 non-null    float64\n",
      " 4   s1           409 non-null    float64\n",
      " 5   s2           409 non-null    float64\n",
      " 6   s3           409 non-null    float64\n",
      " 7   s4           409 non-null    float64\n",
      " 8   s5           409 non-null    float64\n",
      " 9   s6           409 non-null    float64\n",
      " 10  sugar-level  409 non-null    float64\n",
      "dtypes: float64(11)\n",
      "memory usage: 38.3 KB\n"
     ]
    }
   ],
   "source": [
    "X_out.info()"
   ]
  },
  {
   "cell_type": "code",
   "execution_count": 58,
   "metadata": {},
   "outputs": [],
   "source": [
    "#Iteration 2\n",
    "X=df_new.drop(columns=['s3','sugar-level'])"
   ]
  },
  {
   "cell_type": "code",
   "execution_count": 59,
   "metadata": {},
   "outputs": [
    {
     "name": "stdout",
     "output_type": "stream",
     "text": [
      "<class 'pandas.core.frame.DataFrame'>\n",
      "RangeIndex: 442 entries, 0 to 441\n",
      "Data columns (total 9 columns):\n",
      " #   Column  Non-Null Count  Dtype  \n",
      "---  ------  --------------  -----  \n",
      " 0   age     442 non-null    float64\n",
      " 1   sex     442 non-null    float64\n",
      " 2   bmi     442 non-null    float64\n",
      " 3   bp      442 non-null    float64\n",
      " 4   s1      442 non-null    float64\n",
      " 5   s2      442 non-null    float64\n",
      " 6   s4      442 non-null    float64\n",
      " 7   s5      442 non-null    float64\n",
      " 8   s6      442 non-null    float64\n",
      "dtypes: float64(9)\n",
      "memory usage: 31.2 KB\n",
      "<class 'pandas.core.frame.DataFrame'>\n",
      "RangeIndex: 442 entries, 0 to 441\n",
      "Data columns (total 1 columns):\n",
      " #   Column       Non-Null Count  Dtype  \n",
      "---  ------       --------------  -----  \n",
      " 0   sugar-level  442 non-null    float64\n",
      "dtypes: float64(1)\n",
      "memory usage: 3.6 KB\n"
     ]
    }
   ],
   "source": [
    "X.info()\n",
    "y.info()"
   ]
  },
  {
   "cell_type": "code",
   "execution_count": 60,
   "metadata": {},
   "outputs": [],
   "source": [
    "from sklearn.model_selection import train_test_split\n",
    "X_train, X_test, Y_train, y_test = train_test_split(scaled_df, y, test_size=0.2, random_state=0)"
   ]
  },
  {
   "cell_type": "code",
   "execution_count": 61,
   "metadata": {},
   "outputs": [
    {
     "name": "stdout",
     "output_type": "stream",
     "text": [
      "[152.53445084]\n",
      "[[ -1.67386511 -11.58318957  26.75823422  14.50303026 -29.61355336\n",
      "   14.09839669   7.45882073  34.15838683   2.0592691 ]]\n"
     ]
    }
   ],
   "source": [
    "# Initialize model\n",
    "regression_model = linear_model.LinearRegression()\n",
    "\n",
    "regression_model.fit(X_train, Y_train)\n",
    "\n",
    "# Check trained model y-intercept\n",
    "print(regression_model.intercept_)\n",
    "\n",
    "# Check trained model coefficients\n",
    "print(regression_model.coef_)"
   ]
  },
  {
   "cell_type": "code",
   "execution_count": 62,
   "metadata": {},
   "outputs": [
    {
     "data": {
      "text/plain": [
       "0.553913841129342"
      ]
     },
     "execution_count": 62,
     "metadata": {},
     "output_type": "execute_result"
    }
   ],
   "source": [
    "regression_model.score(X = X_train, \n",
    "                       y = Y_train)"
   ]
  },
  {
   "cell_type": "code",
   "execution_count": 63,
   "metadata": {},
   "outputs": [
    {
     "data": {
      "text/plain": [
       "0.3316469808470983"
      ]
     },
     "execution_count": 63,
     "metadata": {},
     "output_type": "execute_result"
    }
   ],
   "source": [
    "#test score\n",
    "regression_model.score(X_test, y_test)"
   ]
  },
  {
   "cell_type": "code",
   "execution_count": 64,
   "metadata": {},
   "outputs": [],
   "source": [
    "# Regularization techniqiyes\n",
    "#L1, L2"
   ]
  },
  {
   "cell_type": "code",
   "execution_count": 155,
   "metadata": {},
   "outputs": [
    {
     "data": {
      "text/plain": [
       "0.5539138352169819"
      ]
     },
     "execution_count": 155,
     "metadata": {},
     "output_type": "execute_result"
    }
   ],
   "source": [
    "#Ridge Regression\n",
    "from sklearn.linear_model import Ridge\n",
    "\n",
    "ridge_reg = Ridge(alpha=0.01)\n",
    "\n",
    "ridge_reg.fit(X_train,Y_train)\n",
    "\n",
    "ridge_reg.score(X = X_train, y = Y_train)"
   ]
  },
  {
   "cell_type": "code",
   "execution_count": 157,
   "metadata": {},
   "outputs": [
    {
     "data": {
      "text/plain": [
       "0.33165113677256874"
      ]
     },
     "execution_count": 157,
     "metadata": {},
     "output_type": "execute_result"
    }
   ],
   "source": [
    "ridge_reg.score(X = X_test, y = y_test)"
   ]
  },
  {
   "cell_type": "code",
   "execution_count": 158,
   "metadata": {},
   "outputs": [
    {
     "data": {
      "text/plain": [
       "array([[145.99899079],\n",
       "       [100.15051105],\n",
       "       [123.26294624],\n",
       "       [ 77.72978089],\n",
       "       [148.74449927],\n",
       "       [126.18837207],\n",
       "       [106.83516071],\n",
       "       [235.31840623],\n",
       "       [225.01205899],\n",
       "       [126.19929418],\n",
       "       [161.0718472 ],\n",
       "       [196.4144952 ],\n",
       "       [111.57187772],\n",
       "       [201.17469325],\n",
       "       [ 86.75561353],\n",
       "       [214.42899535],\n",
       "       [110.2614347 ],\n",
       "       [221.25437712],\n",
       "       [262.21505225],\n",
       "       [114.77974888],\n",
       "       [113.76659401],\n",
       "       [193.08675052],\n",
       "       [121.35497263],\n",
       "       [166.7821892 ],\n",
       "       [ 98.70753507],\n",
       "       [100.10602462],\n",
       "       [222.86516317],\n",
       "       [236.61584887],\n",
       "       [117.79536881],\n",
       "       [293.22574716],\n",
       "       [116.06690423],\n",
       "       [126.98229744],\n",
       "       [113.48819535],\n",
       "       [ 70.04385624],\n",
       "       [246.35214748],\n",
       "       [100.66888298],\n",
       "       [120.74622659],\n",
       "       [201.91833545],\n",
       "       [187.27200644],\n",
       "       [194.55293222],\n",
       "       [160.02672926],\n",
       "       [190.96613272],\n",
       "       [116.22983033],\n",
       "       [173.00434562],\n",
       "       [156.1126706 ],\n",
       "       [ 79.0146868 ],\n",
       "       [183.60236881],\n",
       "       [261.18809434],\n",
       "       [ 92.16814365],\n",
       "       [ 76.14767879],\n",
       "       [109.30508202],\n",
       "       [ 99.58363239],\n",
       "       [253.39739948],\n",
       "       [166.03699682],\n",
       "       [ 98.13270442],\n",
       "       [113.7041836 ],\n",
       "       [104.16490712],\n",
       "       [ 61.38417682],\n",
       "       [105.68705259],\n",
       "       [154.24597573],\n",
       "       [114.65695877],\n",
       "       [190.30953671],\n",
       "       [150.94600895],\n",
       "       [247.57005708],\n",
       "       [212.50028081],\n",
       "       [290.72088501],\n",
       "       [102.32178204],\n",
       "       [100.89179381],\n",
       "       [156.73758253],\n",
       "       [149.00864996],\n",
       "       [176.74299701],\n",
       "       [230.44949467],\n",
       "       [154.68143285],\n",
       "       [100.01860588],\n",
       "       [121.13239086],\n",
       "       [ 83.02067338],\n",
       "       [167.74315045],\n",
       "       [180.01680443],\n",
       "       [193.24647658],\n",
       "       [107.74176721],\n",
       "       [ 53.50127839],\n",
       "       [162.38362   ],\n",
       "       [301.16503346],\n",
       "       [174.51099158],\n",
       "       [156.41562604],\n",
       "       [149.65594388],\n",
       "       [174.79430059],\n",
       "       [154.60185547],\n",
       "       [131.57857983],\n",
       "       [212.77585338],\n",
       "       [225.25829887],\n",
       "       [263.25095917],\n",
       "       [159.041322  ],\n",
       "       [133.44387317],\n",
       "       [155.31755597],\n",
       "       [230.85440285],\n",
       "       [ 60.24312137],\n",
       "       [ 90.40027044],\n",
       "       [143.84403748],\n",
       "       [ 60.50505524],\n",
       "       [ 94.7058456 ],\n",
       "       [296.31137321],\n",
       "       [173.36005579],\n",
       "       [ 71.0833053 ],\n",
       "       [109.31938895],\n",
       "       [ 81.52462804],\n",
       "       [148.44915964],\n",
       "       [ 79.51431969],\n",
       "       [224.87948365],\n",
       "       [216.36767284],\n",
       "       [169.30232701],\n",
       "       [185.58326047],\n",
       "       [264.7930816 ],\n",
       "       [177.79937066],\n",
       "       [ 99.36381549],\n",
       "       [ 97.79419882],\n",
       "       [183.5727405 ],\n",
       "       [ 54.90045681],\n",
       "       [210.95145591],\n",
       "       [267.74540285],\n",
       "       [235.06469683],\n",
       "       [174.83283523],\n",
       "       [148.11663185],\n",
       "       [210.20573763],\n",
       "       [109.24585908],\n",
       "       [ 45.80330418],\n",
       "       [120.86969963],\n",
       "       [236.95585689],\n",
       "       [201.64988751],\n",
       "       [118.80501123],\n",
       "       [199.70835735],\n",
       "       [184.83960066],\n",
       "       [ 86.05296796],\n",
       "       [135.83230571],\n",
       "       [120.25697862],\n",
       "       [170.19122532],\n",
       "       [158.6111461 ],\n",
       "       [ 54.99692065],\n",
       "       [216.94392266],\n",
       "       [218.06975016],\n",
       "       [183.3265014 ],\n",
       "       [179.24691197],\n",
       "       [137.50964885],\n",
       "       [148.0452661 ],\n",
       "       [115.14904732],\n",
       "       [154.96630848],\n",
       "       [174.65218832],\n",
       "       [257.71847646],\n",
       "       [146.63999521],\n",
       "       [157.77169329],\n",
       "       [204.8959774 ],\n",
       "       [126.86504757],\n",
       "       [170.67464278],\n",
       "       [264.46870358],\n",
       "       [129.10087231],\n",
       "       [113.03903808],\n",
       "       [ 98.94624829],\n",
       "       [ 81.83506048],\n",
       "       [164.99736083],\n",
       "       [174.13117713],\n",
       "       [233.16220796],\n",
       "       [182.77926809],\n",
       "       [178.29841073],\n",
       "       [122.91248436],\n",
       "       [122.4821161 ],\n",
       "       [170.77994011],\n",
       "       [157.1629983 ],\n",
       "       [221.26071018],\n",
       "       [131.00980046],\n",
       "       [209.52630007],\n",
       "       [120.66149984],\n",
       "       [ 64.30742783],\n",
       "       [ 98.75487545],\n",
       "       [147.99164886],\n",
       "       [166.28986742],\n",
       "       [ 91.68306778],\n",
       "       [119.2651164 ],\n",
       "       [251.2481352 ],\n",
       "       [166.01576948],\n",
       "       [158.57529171],\n",
       "       [ 51.99815707],\n",
       "       [120.03516966],\n",
       "       [230.13451003],\n",
       "       [157.75082597],\n",
       "       [119.46074397],\n",
       "       [227.5739784 ],\n",
       "       [ 36.70714897],\n",
       "       [185.11105948],\n",
       "       [196.75757025],\n",
       "       [212.65070597],\n",
       "       [123.02691095],\n",
       "       [138.49325912],\n",
       "       [124.7644946 ],\n",
       "       [259.10093702],\n",
       "       [ 60.93872581],\n",
       "       [ 55.09682882],\n",
       "       [157.60498515],\n",
       "       [135.11098989],\n",
       "       [232.90105933],\n",
       "       [161.06028365],\n",
       "       [125.45567874],\n",
       "       [ 85.32454951],\n",
       "       [ 80.91641547],\n",
       "       [168.27315518],\n",
       "       [169.9209    ],\n",
       "       [134.11161351],\n",
       "       [194.59654022],\n",
       "       [164.90771665],\n",
       "       [ 79.26613487],\n",
       "       [ 80.08079781],\n",
       "       [204.86914438],\n",
       "       [192.54050913],\n",
       "       [135.81985976],\n",
       "       [157.14014294],\n",
       "       [ 80.77830737],\n",
       "       [106.42456542],\n",
       "       [167.1726092 ],\n",
       "       [175.23405056],\n",
       "       [169.72992292],\n",
       "       [142.77963858],\n",
       "       [110.70134286],\n",
       "       [ 96.35634496],\n",
       "       [111.5856917 ],\n",
       "       [ 44.37279674],\n",
       "       [ 30.74760968],\n",
       "       [210.45204439],\n",
       "       [150.39593827],\n",
       "       [ 97.19369959],\n",
       "       [ 78.06819951],\n",
       "       [192.58837382],\n",
       "       [157.88426637],\n",
       "       [172.12989835],\n",
       "       [ 59.7713268 ],\n",
       "       [ 90.67774136],\n",
       "       [200.47144691],\n",
       "       [166.59184547],\n",
       "       [154.46062673],\n",
       "       [ 61.23865036],\n",
       "       [137.37128227],\n",
       "       [247.89764007],\n",
       "       [ 71.01136422],\n",
       "       [263.26450248],\n",
       "       [ 72.75813279],\n",
       "       [210.56184234],\n",
       "       [ 65.91519014],\n",
       "       [169.87078471],\n",
       "       [125.37776432],\n",
       "       [114.23173985],\n",
       "       [ 98.39527676],\n",
       "       [ 96.49602263],\n",
       "       [279.53136022],\n",
       "       [109.13197839],\n",
       "       [172.18681828],\n",
       "       [128.492306  ],\n",
       "       [261.88411252],\n",
       "       [230.03227337],\n",
       "       [121.94525918],\n",
       "       [137.07340529],\n",
       "       [ 68.16154028],\n",
       "       [184.97291715],\n",
       "       [214.27500086],\n",
       "       [116.24877987],\n",
       "       [ 98.74905139],\n",
       "       [113.74334448],\n",
       "       [117.44510301],\n",
       "       [ 82.61474796],\n",
       "       [180.73418663],\n",
       "       [ 92.63074488],\n",
       "       [ 72.52869222],\n",
       "       [118.90929881],\n",
       "       [216.73454279],\n",
       "       [267.79875662],\n",
       "       [208.64061149],\n",
       "       [196.1700914 ],\n",
       "       [ 56.92344529],\n",
       "       [199.21712018],\n",
       "       [113.37039175],\n",
       "       [ 53.98282465],\n",
       "       [187.50799903],\n",
       "       [ 60.68730997],\n",
       "       [134.89941688],\n",
       "       [149.66543547],\n",
       "       [ 51.31082793],\n",
       "       [203.48495508],\n",
       "       [ 83.0203024 ],\n",
       "       [285.78819552],\n",
       "       [102.82835371],\n",
       "       [270.9632932 ],\n",
       "       [149.71599511],\n",
       "       [115.10621342],\n",
       "       [199.00839091],\n",
       "       [192.92484155],\n",
       "       [ 94.25610884],\n",
       "       [241.32377951],\n",
       "       [152.9493355 ],\n",
       "       [139.65687552],\n",
       "       [ 92.8812929 ],\n",
       "       [222.05757339],\n",
       "       [131.63924732],\n",
       "       [153.44071927],\n",
       "       [ 56.48896342],\n",
       "       [196.02704308],\n",
       "       [144.32416951],\n",
       "       [145.30088452],\n",
       "       [161.99897219],\n",
       "       [ 70.30876828],\n",
       "       [266.29902823],\n",
       "       [107.19371924],\n",
       "       [192.83967004],\n",
       "       [121.0948972 ],\n",
       "       [ 72.63308826],\n",
       "       [174.46362107],\n",
       "       [143.64474547],\n",
       "       [233.83759637],\n",
       "       [204.42403128],\n",
       "       [159.49785562],\n",
       "       [226.13380565],\n",
       "       [136.32477674],\n",
       "       [124.12124678],\n",
       "       [ 83.88838659],\n",
       "       [187.53813314],\n",
       "       [ 99.31019663],\n",
       "       [192.08063278],\n",
       "       [202.12926056],\n",
       "       [130.14181497],\n",
       "       [141.69670944],\n",
       "       [182.23479724],\n",
       "       [151.80084918],\n",
       "       [ 76.42878482],\n",
       "       [172.19499445],\n",
       "       [155.92058542],\n",
       "       [170.32911332],\n",
       "       [257.6874302 ],\n",
       "       [139.31763018],\n",
       "       [139.11250169],\n",
       "       [178.19555407],\n",
       "       [ 65.3206969 ],\n",
       "       [ 79.40346104],\n",
       "       [ 68.17141155],\n",
       "       [150.31423248],\n",
       "       [ 93.39679103],\n",
       "       [ 92.2897023 ],\n",
       "       [115.5191616 ],\n",
       "       [174.87272883],\n",
       "       [222.99626557],\n",
       "       [171.53342844],\n",
       "       [168.14332485],\n",
       "       [280.26119734],\n",
       "       [221.87280169],\n",
       "       [ 87.71058876],\n",
       "       [230.99670861],\n",
       "       [115.10938819],\n",
       "       [224.02932857]])"
      ]
     },
     "execution_count": 158,
     "metadata": {},
     "output_type": "execute_result"
    }
   ],
   "source": [
    "train_prediction = ridge_reg.predict(X_train)\n",
    "train_prediction"
   ]
  },
  {
   "cell_type": "code",
   "execution_count": 159,
   "metadata": {},
   "outputs": [
    {
     "data": {
      "text/plain": [
       "2734.8193968744445"
      ]
     },
     "execution_count": 159,
     "metadata": {},
     "output_type": "execute_result"
    }
   ],
   "source": [
    "from sklearn.metrics import mean_squared_error\n",
    "mean_squared_error(train_prediction, Y_train)"
   ]
  },
  {
   "cell_type": "code",
   "execution_count": null,
   "metadata": {},
   "outputs": [],
   "source": [
    "#Optimizing Ridge Regression on  mean_squarred_error using GridSearchCV"
   ]
  },
  {
   "cell_type": "code",
   "execution_count": 151,
   "metadata": {},
   "outputs": [
    {
     "data": {
      "text/plain": [
       "-2865.756756962929"
      ]
     },
     "execution_count": 151,
     "metadata": {},
     "output_type": "execute_result"
    }
   ],
   "source": [
    "from sklearn.model_selection import GridSearchCV\n",
    "from sklearn.linear_model import Ridge\n",
    "ridge = Ridge()\n",
    "parameters = {'alpha': [1e-15, 1e-10, 1e-8, 1e-4, 1e-3,1e-2, 1, 5, 10, 20]}\n",
    "ridge_regressor = GridSearchCV(ridge, parameters,scoring='neg_mean_squared_error', cv=5)\n",
    "ridge_regressor.fit(X_train,Y_train)\n",
    "\n"
   ]
  },
  {
   "cell_type": "code",
   "execution_count": 152,
   "metadata": {},
   "outputs": [
    {
     "data": {
      "text/plain": [
       "{'alpha': 0.01}"
      ]
     },
     "execution_count": 152,
     "metadata": {},
     "output_type": "execute_result"
    }
   ],
   "source": [
    "ridge_regressor.best_params_"
   ]
  },
  {
   "cell_type": "code",
   "execution_count": 153,
   "metadata": {},
   "outputs": [
    {
     "data": {
      "text/plain": [
       "-2865.756756962929"
      ]
     },
     "execution_count": 153,
     "metadata": {},
     "output_type": "execute_result"
    }
   ],
   "source": [
    "ridge_regressor.best_score_"
   ]
  },
  {
   "cell_type": "code",
   "execution_count": 163,
   "metadata": {},
   "outputs": [
    {
     "data": {
      "text/plain": [
       "0.5539127107776467"
      ]
     },
     "execution_count": 163,
     "metadata": {},
     "output_type": "execute_result"
    }
   ],
   "source": [
    "#Lasso\n",
    "from sklearn.linear_model import Lasso\n",
    "\n",
    "lasso_reg = Lasso(alpha=0.01)\n",
    "\n",
    "lasso_reg.fit(X_train,Y_train)\n",
    "\n",
    "lasso_reg.score(X = X_train, y = Y_train)"
   ]
  },
  {
   "cell_type": "code",
   "execution_count": 164,
   "metadata": {},
   "outputs": [
    {
     "data": {
      "text/plain": [
       "0.3316838351619289"
      ]
     },
     "execution_count": 164,
     "metadata": {},
     "output_type": "execute_result"
    }
   ],
   "source": [
    "lasso_reg.score(X = X_test, y = y_test)"
   ]
  },
  {
   "cell_type": "code",
   "execution_count": 165,
   "metadata": {},
   "outputs": [
    {
     "data": {
      "text/plain": [
       "array([145.968728  , 100.08212103, 123.24464439,  77.86687277,\n",
       "       148.73799009, 126.15586295, 106.8603792 , 235.27798334,\n",
       "       225.03501086, 126.21268586, 161.06676842, 196.30249001,\n",
       "       111.5532591 , 201.35518268,  86.75679328, 214.47160544,\n",
       "       110.29090586, 221.27724834, 262.27254199, 114.74713317,\n",
       "       113.78760008, 193.00968323, 121.24550052, 166.96605885,\n",
       "        98.65098769, 100.20940974, 222.81433333, 236.5972837 ,\n",
       "       117.74931356, 293.19136488, 116.03249425, 126.91633071,\n",
       "       113.50327738,  70.18211017, 246.25784289, 100.64366001,\n",
       "       120.75274846, 201.94756935, 187.18436234, 194.52180404,\n",
       "       160.05201668, 190.9673046 , 116.28122358, 172.95661736,\n",
       "       156.07342146,  78.9642965 , 183.55806688, 261.37842517,\n",
       "        92.1991148 ,  76.10865993, 109.26645089,  99.49546024,\n",
       "       253.45619694, 165.98706387,  98.21888571, 113.61493844,\n",
       "       104.18484654,  61.42542495, 105.74463436, 154.19164441,\n",
       "       114.66393887, 190.28391353, 150.85668466, 247.53602906,\n",
       "       212.43270323, 291.04023572, 102.26512301, 100.90778654,\n",
       "       156.65235975, 148.97478384, 176.6984548 , 230.42907021,\n",
       "       154.62733023, 100.07484598, 121.16477017,  83.03611311,\n",
       "       167.64105625, 179.95121671, 193.19427626, 107.73543408,\n",
       "        53.64681152, 162.34339975, 301.21093252, 174.42764829,\n",
       "       156.39325357, 149.56995885, 174.67631955, 154.60312757,\n",
       "       131.49092792, 212.77780757, 225.28953913, 263.28237938,\n",
       "       158.99132749, 133.3162663 , 155.24550517, 230.84645719,\n",
       "        60.25351968,  90.46860068, 143.69633194,  60.54592137,\n",
       "        94.71315088, 296.21882186, 173.32160979,  71.14921291,\n",
       "       109.45829475,  81.56255852, 148.44499288,  79.53281069,\n",
       "       224.87633205, 216.28865481, 169.31269706, 185.55689447,\n",
       "       264.76711213, 177.83001307,  99.30189123,  97.82611873,\n",
       "       183.53608469,  55.05626375, 210.90837432, 267.67585028,\n",
       "       235.00320426, 174.84223325, 148.0471198 , 210.18258129,\n",
       "       109.28849731,  45.82993947, 120.87885366, 236.87645406,\n",
       "       201.62115047, 118.82318288, 199.64043142, 184.87394497,\n",
       "        86.07769271, 135.7665046 , 120.27941979, 170.17558836,\n",
       "       158.49700205,  55.07788024, 216.86510058, 218.00885993,\n",
       "       183.2962215 , 179.25553241, 137.42244861, 147.98890867,\n",
       "       115.10013518, 154.97328824, 174.6237289 , 257.70188166,\n",
       "       146.64267883, 157.81626389, 204.82388238, 126.84387696,\n",
       "       170.64334138, 264.37991556, 129.17701342, 112.9979972 ,\n",
       "        99.09980186,  82.026484  , 165.01054363, 174.11802528,\n",
       "       233.12386486, 182.76904609, 178.34938617, 122.94483811,\n",
       "       122.46730176, 170.7598919 , 157.1250832 , 221.30389392,\n",
       "       130.96114474, 209.43456576, 120.71609335,  64.36539712,\n",
       "        98.73721454, 147.90532794, 166.1647256 ,  91.68679077,\n",
       "       119.32409903, 251.21215705, 166.00449194, 158.52771049,\n",
       "        52.093548  , 120.02799758, 230.12471553, 157.67398728,\n",
       "       119.45684488, 227.48799227,  36.94929607, 185.11519422,\n",
       "       196.70172213, 212.68186771, 123.05329775, 138.45693367,\n",
       "       124.69651677, 259.02785676,  60.98225625,  55.39665189,\n",
       "       157.61364818, 135.09765025, 232.86054955, 161.0022252 ,\n",
       "       125.42977828,  85.48984122,  80.94069868, 168.1793588 ,\n",
       "       169.79555239, 134.087288  , 194.58397572, 164.92604941,\n",
       "        79.45134075,  80.08811626, 204.76221248, 192.53242293,\n",
       "       135.72524046, 157.07250417,  80.79845046, 106.40887783,\n",
       "       167.13709502, 175.20114891, 169.7360226 , 142.73288469,\n",
       "       110.72511062,  96.49926809, 111.6170642 ,  44.40962972,\n",
       "        30.9782706 , 210.41727862, 150.3580508 ,  97.41666515,\n",
       "        78.07135187, 192.56640355, 157.80423184, 172.04482795,\n",
       "        59.98376417,  90.69909699, 200.49600001, 166.63152392,\n",
       "       154.34547741,  61.43063459, 137.34942858, 247.83994353,\n",
       "        71.09735666, 263.5208038 ,  72.87734175, 210.51736501,\n",
       "        65.96177601, 169.84575336, 125.35427877, 114.18954814,\n",
       "        98.39379844,  96.58773281, 279.5038316 , 109.20099535,\n",
       "       172.11892622, 128.34174211, 261.93887262, 230.18362226,\n",
       "       121.88775843, 137.05000947,  68.25604197, 184.94560396,\n",
       "       214.20394042, 116.25340205,  98.86313976, 113.76558923,\n",
       "       117.51932688,  82.63961731, 180.66087649,  92.68126092,\n",
       "        72.4735575 , 118.86848578, 216.64425545, 267.80262419,\n",
       "       208.63359874, 196.14697484,  57.03031856, 199.13714375,\n",
       "       113.3491222 ,  54.03076875, 187.47344785,  60.85681993,\n",
       "       134.87734218, 149.61058224,  51.37062284, 203.41983367,\n",
       "        83.08856642, 285.87950344, 102.86060626, 271.11451787,\n",
       "       149.6390945 , 115.10602736, 198.8927298 , 193.03097533,\n",
       "        94.25708683, 241.34690351, 152.89835277, 139.66046347,\n",
       "        92.83208935, 222.0125785 , 131.57111918, 153.37538638,\n",
       "        56.62562224, 196.02831469, 144.33731441, 145.38117469,\n",
       "       162.07592524,  70.3247287 , 266.34604132, 107.30475489,\n",
       "       192.75561021, 121.08958648,  72.77217706, 174.38787898,\n",
       "       143.64379337, 233.75075489, 204.38949201, 159.46052094,\n",
       "       226.11785055, 136.24211068, 123.99604076,  83.96119412,\n",
       "       187.45535995,  99.34298689, 192.15918094, 202.06500536,\n",
       "       130.09869546, 141.82397639, 182.1539388 , 151.71751803,\n",
       "        76.48857382, 172.14400211, 155.85196763, 170.26353362,\n",
       "       257.68068449, 139.29511199, 139.09337657, 178.16023054,\n",
       "        65.4550621 ,  79.45602171,  68.25137303, 150.37667396,\n",
       "        93.52909536,  92.32521029, 115.51201445, 174.82537463,\n",
       "       222.91773283, 171.51405254, 168.0867499 , 280.31308978,\n",
       "       222.12902501,  87.73886093, 230.92177224, 114.98533238,\n",
       "       224.076915  ])"
      ]
     },
     "execution_count": 165,
     "metadata": {},
     "output_type": "execute_result"
    }
   ],
   "source": [
    "train_prediction = lasso_reg.predict(X_train)\n",
    "train_prediction"
   ]
  },
  {
   "cell_type": "code",
   "execution_count": 166,
   "metadata": {},
   "outputs": [
    {
     "data": {
      "text/plain": [
       "2734.8262904720214"
      ]
     },
     "execution_count": 166,
     "metadata": {},
     "output_type": "execute_result"
    }
   ],
   "source": [
    "from sklearn.metrics import mean_squared_error\n",
    "mean_squared_error(train_prediction, Y_train)"
   ]
  },
  {
   "cell_type": "code",
   "execution_count": 176,
   "metadata": {},
   "outputs": [
    {
     "name": "stdout",
     "output_type": "stream",
     "text": [
      "[152.52976796]\n",
      "[ -1.65731604 -11.55319974  26.77888683  14.48726353 -29.31960237\n",
      "  13.79532359   7.55779689  34.02127461   2.05064862]\n"
     ]
    }
   ],
   "source": [
    "# Check trained model y-intercept\n",
    "print(lasso_reg.intercept_)\n",
    "\n",
    "# Check trained model coefficients\n",
    "print(lasso_reg.coef_)"
   ]
  },
  {
   "cell_type": "code",
   "execution_count": 185,
   "metadata": {},
   "outputs": [
    {
     "data": {
      "text/html": [
       "<div>\n",
       "<style scoped>\n",
       "    .dataframe tbody tr th:only-of-type {\n",
       "        vertical-align: middle;\n",
       "    }\n",
       "\n",
       "    .dataframe tbody tr th {\n",
       "        vertical-align: top;\n",
       "    }\n",
       "\n",
       "    .dataframe thead th {\n",
       "        text-align: right;\n",
       "    }\n",
       "</style>\n",
       "<table border=\"1\" class=\"dataframe\">\n",
       "  <thead>\n",
       "    <tr style=\"text-align: right;\">\n",
       "      <th></th>\n",
       "      <th>Lasso</th>\n",
       "    </tr>\n",
       "  </thead>\n",
       "  <tbody>\n",
       "    <tr>\n",
       "      <th>age</th>\n",
       "      <td>-1.657316</td>\n",
       "    </tr>\n",
       "    <tr>\n",
       "      <th>sex</th>\n",
       "      <td>-11.553200</td>\n",
       "    </tr>\n",
       "    <tr>\n",
       "      <th>bmi</th>\n",
       "      <td>26.778887</td>\n",
       "    </tr>\n",
       "    <tr>\n",
       "      <th>bp</th>\n",
       "      <td>14.487264</td>\n",
       "    </tr>\n",
       "    <tr>\n",
       "      <th>s1</th>\n",
       "      <td>-29.319602</td>\n",
       "    </tr>\n",
       "    <tr>\n",
       "      <th>s2</th>\n",
       "      <td>13.795324</td>\n",
       "    </tr>\n",
       "    <tr>\n",
       "      <th>s4</th>\n",
       "      <td>7.557797</td>\n",
       "    </tr>\n",
       "    <tr>\n",
       "      <th>s5</th>\n",
       "      <td>34.021275</td>\n",
       "    </tr>\n",
       "    <tr>\n",
       "      <th>s6</th>\n",
       "      <td>2.050649</td>\n",
       "    </tr>\n",
       "  </tbody>\n",
       "</table>\n",
       "</div>"
      ],
      "text/plain": [
       "         Lasso\n",
       "age  -1.657316\n",
       "sex -11.553200\n",
       "bmi  26.778887\n",
       "bp   14.487264\n",
       "s1  -29.319602\n",
       "s2   13.795324\n",
       "s4    7.557797\n",
       "s5   34.021275\n",
       "s6    2.050649"
      ]
     },
     "execution_count": 185,
     "metadata": {},
     "output_type": "execute_result"
    }
   ],
   "source": [
    "Lasso_coef = pd.DataFrame({\n",
    " 'Lasso':lasso_reg.coef_},\n",
    " index=X_train.columns)\n",
    "Lasso_coef"
   ]
  },
  {
   "cell_type": "code",
   "execution_count": 178,
   "metadata": {},
   "outputs": [
    {
     "data": {
      "image/png": "[encoded data removed]",
      "text/plain": [
       "<Figure size 720x432 with 1 Axes>"
      ]
     },
     "metadata": {},
     "output_type": "display_data"
    }
   ],
   "source": [
    "plt.figure(figsize=(10,6))\n",
    "plt.plot(range(len(X_train.columns)),lasso_reg.coef_)\n",
    "plt.axhline(0, color='r', linestyle='solid')\n",
    "plt.xticks(range(len(X_train.columns)),X_train.columns,rotation=50)\n",
    "plt.title(\"Coefficient estimates from Lasso Regression\")\n",
    "plt.ylabel(\"coefficients\")\n",
    "plt.xlabel(\"features\")\n",
    "plt.show()"
   ]
  },
  {
   "cell_type": "code",
   "execution_count": null,
   "metadata": {},
   "outputs": [],
   "source": [
    "#Optimizing Lasso Regression on  mean_squarred_error using GridSearchCV"
   ]
  },
  {
   "cell_type": "code",
   "execution_count": 160,
   "metadata": {},
   "outputs": [
    {
     "name": "stderr",
     "output_type": "stream",
     "text": [
      "C:\\Users\\AKSHANSH\\anaconda3\\lib\\site-packages\\sklearn\\linear_model\\_coordinate_descent.py:476: ConvergenceWarning: Objective did not converge. You might want to increase the number of iterations. Duality gap: 273549.87958051474, tolerance: 176.24972340425532\n",
      "  positive)\n",
      "C:\\Users\\AKSHANSH\\anaconda3\\lib\\site-packages\\sklearn\\linear_model\\_coordinate_descent.py:476: ConvergenceWarning: Objective did not converge. You might want to increase the number of iterations. Duality gap: 248558.71796706654, tolerance: 175.5447039007092\n",
      "  positive)\n",
      "C:\\Users\\AKSHANSH\\anaconda3\\lib\\site-packages\\sklearn\\linear_model\\_coordinate_descent.py:476: ConvergenceWarning: Objective did not converge. You might want to increase the number of iterations. Duality gap: 225392.04800982855, tolerance: 172.3429081560284\n",
      "  positive)\n",
      "C:\\Users\\AKSHANSH\\anaconda3\\lib\\site-packages\\sklearn\\linear_model\\_coordinate_descent.py:476: ConvergenceWarning: Objective did not converge. You might want to increase the number of iterations. Duality gap: 187015.84881661215, tolerance: 175.0073851590106\n",
      "  positive)\n",
      "C:\\Users\\AKSHANSH\\anaconda3\\lib\\site-packages\\sklearn\\linear_model\\_coordinate_descent.py:476: ConvergenceWarning: Objective did not converge. You might want to increase the number of iterations. Duality gap: 287911.54813448683, tolerance: 166.24040070671379\n",
      "  positive)\n"
     ]
    },
    {
     "data": {
      "text/plain": [
       "GridSearchCV(cv=5, error_score=nan,\n",
       "             estimator=Lasso(alpha=1.0, copy_X=True, fit_intercept=True,\n",
       "                             max_iter=1000, normalize=False, positive=False,\n",
       "                             precompute=False, random_state=None,\n",
       "                             selection='cyclic', tol=0.0001, warm_start=False),\n",
       "             iid='deprecated', n_jobs=None,\n",
       "             param_grid={'alpha': [1e-15, 1e-10, 1e-08, 0.0001, 0.001, 0.01, 1,\n",
       "                                   5, 10, 20]},\n",
       "             pre_dispatch='2*n_jobs', refit=True, return_train_score=False,\n",
       "             scoring='neg_mean_squared_error', verbose=0)"
      ]
     },
     "execution_count": 160,
     "metadata": {},
     "output_type": "execute_result"
    }
   ],
   "source": [
    "from sklearn.model_selection import GridSearchCV\n",
    "from sklearn.linear_model import Lasso\n",
    "lasso = Lasso()\n",
    "parameters = {'alpha': [1e-15, 1e-10, 1e-8, 1e-4, 1e-3,1e-2, 1, 5, 10, 20]}\n",
    "lasso_regressor = GridSearchCV(lasso, parameters, scoring='neg_mean_squared_error', cv = 5)\n",
    "lasso_regressor.fit(X, y)\n",
    "\n"
   ]
  },
  {
   "cell_type": "code",
   "execution_count": 161,
   "metadata": {},
   "outputs": [
    {
     "data": {
      "text/plain": [
       "{'alpha': 0.01}"
      ]
     },
     "execution_count": 161,
     "metadata": {},
     "output_type": "execute_result"
    }
   ],
   "source": [
    "lasso_regressor.best_params_ "
   ]
  },
  {
   "cell_type": "code",
   "execution_count": 162,
   "metadata": {},
   "outputs": [
    {
     "data": {
      "text/plain": [
       "-2865.606363017896"
      ]
     },
     "execution_count": 162,
     "metadata": {},
     "output_type": "execute_result"
    }
   ],
   "source": [
    "lasso_regressor.best_score_"
   ]
  },
  {
   "cell_type": "code",
   "execution_count": 174,
   "metadata": {},
   "outputs": [
    {
     "data": {
      "text/plain": [
       "0.5538793939536693"
      ]
     },
     "execution_count": 174,
     "metadata": {},
     "output_type": "execute_result"
    }
   ],
   "source": [
    "#elasticnet\n",
    "from sklearn.linear_model import ElasticNet\n",
    "\n",
    "en_reg = ElasticNet(alpha=0.01,l1_ratio=0.8)\n",
    "\n",
    "en_reg.fit(X_train,Y_train)\n",
    "\n",
    "en_reg.score(X = X_train, y = Y_train)"
   ]
  },
  {
   "cell_type": "code",
   "execution_count": 175,
   "metadata": {},
   "outputs": [
    {
     "data": {
      "text/plain": [
       "0.3319472595221947"
      ]
     },
     "execution_count": 175,
     "metadata": {},
     "output_type": "execute_result"
    }
   ],
   "source": [
    "en_reg.score(X = X_test, y = y_test)"
   ]
  },
  {
   "cell_type": "code",
   "execution_count": 99,
   "metadata": {},
   "outputs": [
    {
     "data": {
      "text/plain": [
       "array([147.56716187,  92.25022095, 124.48075128,  92.40472897,\n",
       "       153.18079931, 123.61383705, 108.69317448, 229.33354945,\n",
       "       226.46453353, 129.10541733, 164.18919668, 185.03102425,\n",
       "       109.01546472, 211.90904702,  90.08132532, 217.8573647 ,\n",
       "       118.45484676, 220.80844473, 264.25428057, 112.73131877,\n",
       "       116.98010495, 189.523933  , 113.17082969, 176.08554152,\n",
       "        96.13098514, 109.21082045, 218.24501598, 233.6577338 ,\n",
       "       115.68895144, 285.48958031, 115.54094797, 125.27792751,\n",
       "       116.73939052,  77.63480665, 234.0177147 , 101.03363542,\n",
       "       123.46016845, 202.41775906, 179.17418914, 190.09274979,\n",
       "       166.65486345, 191.30080504, 118.36228896, 167.94634606,\n",
       "       155.78550478,  76.72222396, 180.81484644, 267.60380307,\n",
       "        99.26251493,  72.98859716, 110.56614207,  97.36962606,\n",
       "       251.87607249, 164.40183557, 101.62423342, 108.70159048,\n",
       "       104.8458931 ,  67.04426057, 108.1218546 , 150.17088422,\n",
       "       118.4211556 , 185.64162392, 143.16545308, 242.14196665,\n",
       "       205.17389282, 298.23880604,  98.41530995, 102.93010617,\n",
       "       150.2717983 , 145.18810733, 170.05297093, 226.49838353,\n",
       "       152.04687199, 105.85843673, 128.41933991,  85.21034876,\n",
       "       159.04116484, 178.60544747, 190.9758501 , 111.24483752,\n",
       "        64.99316163, 159.70898985, 298.03379468, 166.83526221,\n",
       "       159.79762127, 140.46064076, 165.28849744, 157.62733545,\n",
       "       127.30656628, 212.26864295, 224.68253914, 265.64256501,\n",
       "       152.01850727, 123.5481318 , 149.71587284, 230.04042086,\n",
       "        59.94007036,  93.74402696, 134.13304729,  62.19539237,\n",
       "        96.13830713, 284.16012815, 170.7160425 ,  75.08637596,\n",
       "       115.98051101,  81.53736408, 146.60737213,  80.61903146,\n",
       "       222.77002345, 209.10437988, 171.68572986, 180.13040828,\n",
       "       258.24911917, 179.04719596,  95.90747207, 104.24177176,\n",
       "       181.77353732,  66.87711563, 209.6806616 , 258.80445479,\n",
       "       227.0185081 , 175.28837501, 143.05919763, 208.84931263,\n",
       "       115.00783881,  49.60050861, 124.77285278, 227.31169517,\n",
       "       204.03788202, 126.09545107, 195.53381291, 187.23326274,\n",
       "        92.16779548, 129.76016485, 123.51771872, 169.66156429,\n",
       "       150.50244685,  58.81277534, 211.19700038, 213.31362498,\n",
       "       179.34045909, 181.14170341, 129.50592368, 143.28789155,\n",
       "       112.25066818, 155.30298374, 178.00698732, 253.88765973,\n",
       "       149.64892278, 159.8726642 , 197.76022094, 127.72250557,\n",
       "       171.08734943, 255.42258569, 133.4411055 , 109.5533923 ,\n",
       "       108.05751696, 100.97193973, 173.24992826, 172.04885468,\n",
       "       227.82866628, 180.76933989, 183.30174806, 129.10748031,\n",
       "       124.98768472, 166.79178445, 158.88711477, 219.28944386,\n",
       "       125.97292727, 199.36490754, 127.02585562,  68.59246935,\n",
       "        95.62155461, 145.35576663, 157.91070806,  90.51659624,\n",
       "       124.75430594, 245.54809163, 166.93533825, 154.82832962,\n",
       "        59.01056461, 119.8645162 , 229.6367607 , 151.65683059,\n",
       "       120.25949693, 217.38584052,  52.81758483, 182.91109222,\n",
       "       189.12714803, 212.87851441, 125.89521126, 135.73970706,\n",
       "       119.81867   , 249.49405589,  66.68784762,  76.27071554,\n",
       "       160.03271556, 132.86940831, 227.65559103, 159.28931582,\n",
       "       125.5816978 ,  99.72264207,  84.98972642, 159.67524056,\n",
       "       160.03603004, 138.37555811, 192.74501432, 168.27220378,\n",
       "        90.09487386,  79.48162262, 195.92444397, 196.42746765,\n",
       "       127.41097328, 152.85825813,  85.2564747 , 114.56630638,\n",
       "       167.27484004, 171.46782618, 172.41040109, 141.85609602,\n",
       "       112.8554497 , 105.69851974, 114.20690081,  47.14747083,\n",
       "        47.56220001, 207.38180094, 147.69821172, 111.34462284,\n",
       "        75.6958576 , 190.40160742, 151.33441234, 164.21864924,\n",
       "        75.52646568,  91.62211666, 200.21358784, 170.21288669,\n",
       "       147.27327127,  76.56592912, 130.65886136, 241.34017492,\n",
       "        74.75242127, 272.34862242,  83.60470939, 207.8292109 ,\n",
       "        71.85026775, 168.98570357, 128.85551308, 115.45330547,\n",
       "       101.39820155, 105.30330713, 272.59207336, 113.56828834,\n",
       "       168.07642901, 117.336649  , 261.90324467, 232.10125921,\n",
       "       115.03986628, 135.9149054 ,  79.21755289, 184.0315502 ,\n",
       "       209.41474538, 120.05201787, 109.00332988, 119.45684382,\n",
       "       123.30970724,  84.77780691, 174.86752516,  99.96975029,\n",
       "        70.67562728, 114.25777771, 208.86501476, 265.80643854,\n",
       "       204.94972945, 193.82489377,  66.99499067, 192.07596501,\n",
       "       114.83347438,  58.47685389, 187.66383531,  74.01363506,\n",
       "       137.70212507, 145.0442954 ,  54.90886808, 201.81950489,\n",
       "        85.35042762, 281.97183866, 107.68876145, 270.77412569,\n",
       "       144.1405538 , 116.78094861, 188.46467672, 199.44734505,\n",
       "        96.82249906, 242.42018188, 146.76035762, 139.41689454,\n",
       "        91.38700931, 219.53840089, 129.6101288 , 149.92736923,\n",
       "        67.33655719, 195.2269441 , 144.89577277, 150.47611841,\n",
       "       174.00652506,  73.53194949, 261.53099324, 121.73262529,\n",
       "       185.55806163, 121.46216519,  86.63877921, 173.0191334 ,\n",
       "       143.73254871, 225.73636787, 196.403516  , 160.44093021,\n",
       "       220.96632971, 130.58082719, 117.16356865,  89.70866911,\n",
       "       181.35924117, 102.40972528, 195.35246681, 194.9079595 ,\n",
       "       129.93230019, 157.40919732, 176.27679363, 147.37246867,\n",
       "        78.63874715, 167.57016488, 152.82374312, 166.15030325,\n",
       "       255.28617319, 142.44298965, 142.44908142, 174.68291503,\n",
       "        73.22319838,  84.48650574,  72.67935825, 157.79886836,\n",
       "       100.96331765,  93.75064081, 112.80500514, 172.53178953,\n",
       "       215.28674849, 169.99206302, 166.99037606, 278.21019988,\n",
       "       232.43661652,  96.55376849, 219.76209929, 105.34082301,\n",
       "       227.36174812])"
      ]
     },
     "execution_count": 99,
     "metadata": {},
     "output_type": "execute_result"
    }
   ],
   "source": [
    "#prediction\n",
    "\n",
    "\n",
    "train_prediction = lasso_reg.predict(X_train)\n",
    "train_prediction"
   ]
  },
  {
   "cell_type": "code",
   "execution_count": 100,
   "metadata": {},
   "outputs": [
    {
     "data": {
      "text/html": [
       "<div>\n",
       "<style scoped>\n",
       "    .dataframe tbody tr th:only-of-type {\n",
       "        vertical-align: middle;\n",
       "    }\n",
       "\n",
       "    .dataframe tbody tr th {\n",
       "        vertical-align: top;\n",
       "    }\n",
       "\n",
       "    .dataframe thead th {\n",
       "        text-align: right;\n",
       "    }\n",
       "</style>\n",
       "<table border=\"1\" class=\"dataframe\">\n",
       "  <thead>\n",
       "    <tr style=\"text-align: right;\">\n",
       "      <th></th>\n",
       "      <th>sugar-level</th>\n",
       "    </tr>\n",
       "  </thead>\n",
       "  <tbody>\n",
       "    <tr>\n",
       "      <th>74</th>\n",
       "      <td>85.0</td>\n",
       "    </tr>\n",
       "    <tr>\n",
       "      <th>26</th>\n",
       "      <td>137.0</td>\n",
       "    </tr>\n",
       "    <tr>\n",
       "      <th>45</th>\n",
       "      <td>53.0</td>\n",
       "    </tr>\n",
       "    <tr>\n",
       "      <th>389</th>\n",
       "      <td>51.0</td>\n",
       "    </tr>\n",
       "    <tr>\n",
       "      <th>154</th>\n",
       "      <td>197.0</td>\n",
       "    </tr>\n",
       "    <tr>\n",
       "      <th>...</th>\n",
       "      <td>...</td>\n",
       "    </tr>\n",
       "    <tr>\n",
       "      <th>323</th>\n",
       "      <td>248.0</td>\n",
       "    </tr>\n",
       "    <tr>\n",
       "      <th>192</th>\n",
       "      <td>91.0</td>\n",
       "    </tr>\n",
       "    <tr>\n",
       "      <th>117</th>\n",
       "      <td>281.0</td>\n",
       "    </tr>\n",
       "    <tr>\n",
       "      <th>47</th>\n",
       "      <td>142.0</td>\n",
       "    </tr>\n",
       "    <tr>\n",
       "      <th>172</th>\n",
       "      <td>295.0</td>\n",
       "    </tr>\n",
       "  </tbody>\n",
       "</table>\n",
       "<p>353 rows × 1 columns</p>\n",
       "</div>"
      ],
      "text/plain": [
       "     sugar-level\n",
       "74          85.0\n",
       "26         137.0\n",
       "45          53.0\n",
       "389         51.0\n",
       "154        197.0\n",
       "..           ...\n",
       "323        248.0\n",
       "192         91.0\n",
       "117        281.0\n",
       "47         142.0\n",
       "172        295.0\n",
       "\n",
       "[353 rows x 1 columns]"
      ]
     },
     "execution_count": 100,
     "metadata": {},
     "output_type": "execute_result"
    }
   ],
   "source": [
    "Y_train"
   ]
  },
  {
   "cell_type": "code",
   "execution_count": 101,
   "metadata": {},
   "outputs": [
    {
     "data": {
      "text/plain": [
       "2771.682654447967"
      ]
     },
     "execution_count": 101,
     "metadata": {},
     "output_type": "execute_result"
    }
   ],
   "source": [
    "from sklearn.metrics import mean_squared_error\n",
    "mean_squared_error(train_prediction, Y_train)"
   ]
  },
  {
   "cell_type": "code",
   "execution_count": null,
   "metadata": {},
   "outputs": [],
   "source": [
    "#Optimizing Elastic Net"
   ]
  },
  {
   "cell_type": "code",
   "execution_count": 170,
   "metadata": {},
   "outputs": [],
   "source": [
    "alpha_values = {'alpha':[0.00005,0.0005,0.001, 0.01, 0.05, 0.06, 0.08, 1, 2, 3, 5, 8, 10, 20, 50, 100],\n",
    " 'l1_ratio':[0.1,0.2,0.3,0.4,0.5,0.6,0.7,0.8,1]}\n",
    "elastic= GridSearchCV(ElasticNet(), alpha_values, scoring='neg_mean_squared_error', cv=10 )"
   ]
  },
  {
   "cell_type": "code",
   "execution_count": 172,
   "metadata": {},
   "outputs": [
    {
     "data": {
      "text/plain": [
       "{'alpha': 0.01, 'l1_ratio': 0.8}"
      ]
     },
     "execution_count": 172,
     "metadata": {},
     "output_type": "execute_result"
    }
   ],
   "source": [
    "elastic.fit(X_train,Y_train).best_params_"
   ]
  },
  {
   "cell_type": "code",
   "execution_count": 173,
   "metadata": {},
   "outputs": [
    {
     "data": {
      "text/plain": [
       "-2874.715598070384"
      ]
     },
     "execution_count": 173,
     "metadata": {},
     "output_type": "execute_result"
    }
   ],
   "source": [
    "elastic.fit(X_train,Y_train).best_score_"
   ]
  },
  {
   "cell_type": "markdown",
   "metadata": {},
   "source": [
    "# Polynomial Regression"
   ]
  },
  {
   "cell_type": "code",
   "execution_count": 120,
   "metadata": {},
   "outputs": [],
   "source": [
    "# Initialize model\n",
    "from sklearn.preprocessing import PolynomialFeatures\n",
    "\n",
    "poly_reg = PolynomialFeatures(2)\n",
    "\n",
    "X = X_train # predictors\n",
    "y = Y_train  # Target value\n",
    "\n",
    "X_poly = poly_reg.fit_transform(X)"
   ]
  },
  {
   "cell_type": "code",
   "execution_count": 121,
   "metadata": {},
   "outputs": [
    {
     "data": {
      "text/plain": [
       "LinearRegression(copy_X=True, fit_intercept=True, n_jobs=None, normalize=False)"
      ]
     },
     "execution_count": 121,
     "metadata": {},
     "output_type": "execute_result"
    }
   ],
   "source": [
    "poly_model = linear_model.LinearRegression()\n",
    "poly_model.fit(X_poly, y)"
   ]
  },
  {
   "cell_type": "code",
   "execution_count": 122,
   "metadata": {},
   "outputs": [
    {
     "data": {
      "text/plain": [
       "0.6242850749133686"
      ]
     },
     "execution_count": 122,
     "metadata": {},
     "output_type": "execute_result"
    }
   ],
   "source": [
    "# Check R-squared\n",
    "poly_model.score(X_poly,y)\n"
   ]
  },
  {
   "cell_type": "code",
   "execution_count": 123,
   "metadata": {},
   "outputs": [
    {
     "data": {
      "text/plain": [
       "0.28647277062268084"
      ]
     },
     "execution_count": 123,
     "metadata": {},
     "output_type": "execute_result"
    }
   ],
   "source": [
    "X_test_poly = poly_reg.fit_transform(X_test)\n",
    "poly_model.score(X = X_test_poly, y = y_test)"
   ]
  },
  {
   "cell_type": "code",
   "execution_count": 124,
   "metadata": {},
   "outputs": [
    {
     "name": "stdout",
     "output_type": "stream",
     "text": [
      "[7.56440904e+13]\n",
      "[[ 9.12041730e-12  1.26790448e+00  9.60315486e+12  2.31742160e+01\n",
      "   1.44806301e+01 -5.01990260e+01  3.89316714e+01  4.82482247e-01\n",
      "   4.75759516e+01  9.63623047e-01  4.40692139e+00  9.43141174e+00\n",
      "   4.42260742e-01 -7.37121582e-01  1.63809814e+01 -2.22454834e+01\n",
      "  -5.39672852e-01  1.88964844e-01  5.52099609e+00 -7.56440904e+13\n",
      "   4.34628296e+00  2.58911133e+00  1.31174316e+01 -9.40661621e+00\n",
      "  -2.88220215e+00 -4.82254028e+00  1.21679688e+00  1.30297852e+00\n",
      "   6.99896240e+00 -9.29394531e+00  7.02929688e+00  7.55859375e-01\n",
      "   4.75012207e+00 -4.90649414e+00  4.95788574e-01  3.97485352e+00\n",
      "   1.13500977e+00 -2.72656250e+00 -5.73168945e+00 -3.57250977e+00\n",
      "   8.39062500e+00 -2.32312012e+01  5.38598633e+00 -3.12238770e+01\n",
      "   2.99658203e+00  1.28837891e+01 -1.16730957e+01  3.95854492e+01\n",
      "  -2.31298828e+00  7.46337891e+00 -1.95280762e+01  1.66607666e+00\n",
      "   1.88388672e+01 -1.27453613e+00  4.69238281e+00]]\n"
     ]
    }
   ],
   "source": [
    "# Check trained model y-intercept\n",
    "print(poly_model.intercept_)\n",
    "\n",
    "# Check trained model coefficients\n",
    "print(poly_model.coef_)"
   ]
  },
  {
   "cell_type": "code",
   "execution_count": 129,
   "metadata": {},
   "outputs": [],
   "source": [
    "# Degree=3\n",
    "from sklearn.preprocessing import PolynomialFeatures\n",
    "\n",
    "poly_reg = PolynomialFeatures(3)\n",
    "\n",
    "X = X_train # predictors\n",
    "y = Y_train  # Target value\n",
    "\n",
    "X_poly = poly_reg.fit_transform(X)"
   ]
  },
  {
   "cell_type": "code",
   "execution_count": 130,
   "metadata": {},
   "outputs": [
    {
     "data": {
      "text/plain": [
       "LinearRegression(copy_X=True, fit_intercept=True, n_jobs=None, normalize=False)"
      ]
     },
     "execution_count": 130,
     "metadata": {},
     "output_type": "execute_result"
    }
   ],
   "source": [
    "poly_model = linear_model.LinearRegression()\n",
    "poly_model.fit(X_poly, y)"
   ]
  },
  {
   "cell_type": "code",
   "execution_count": 131,
   "metadata": {},
   "outputs": [
    {
     "data": {
      "text/plain": [
       "-0.23124498368312518"
      ]
     },
     "execution_count": 131,
     "metadata": {},
     "output_type": "execute_result"
    }
   ],
   "source": [
    "# Check R-squared\n",
    "poly_model.score(X_poly,y)"
   ]
  },
  {
   "cell_type": "code",
   "execution_count": 132,
   "metadata": {},
   "outputs": [
    {
     "data": {
      "text/plain": [
       "-8.80703338631334"
      ]
     },
     "execution_count": 132,
     "metadata": {},
     "output_type": "execute_result"
    }
   ],
   "source": [
    "X_test_poly = poly_reg.fit_transform(X_test)\n",
    "poly_model.score(X = X_test_poly, y = y_test)"
   ]
  },
  {
   "cell_type": "markdown",
   "metadata": {},
   "source": [
    "Score is depreciating with high polynomial degree"
   ]
  },
  {
   "attachments": {},
   "cell_type": "markdown",
   "metadata": {},
   "source": [
    "# Best Model:\n",
    "Lasso = 0.01\n",
    "Score_train = 0.5539\n",
    "Score Test = 0.3316\n",
    "MSE = -2865.6\n"
   ]
  },
  {
   "cell_type": "code",
   "execution_count": 186,
   "metadata": {},
   "outputs": [
    {
     "data": {
      "text/html": [
       "<div>\n",
       "<style scoped>\n",
       "    .dataframe tbody tr th:only-of-type {\n",
       "        vertical-align: middle;\n",
       "    }\n",
       "\n",
       "    .dataframe tbody tr th {\n",
       "        vertical-align: top;\n",
       "    }\n",
       "\n",
       "    .dataframe thead th {\n",
       "        text-align: right;\n",
       "    }\n",
       "</style>\n",
       "<table border=\"1\" class=\"dataframe\">\n",
       "  <thead>\n",
       "    <tr style=\"text-align: right;\">\n",
       "      <th></th>\n",
       "      <th>Lasso</th>\n",
       "    </tr>\n",
       "  </thead>\n",
       "  <tbody>\n",
       "    <tr>\n",
       "      <th>age</th>\n",
       "      <td>-1.657316</td>\n",
       "    </tr>\n",
       "    <tr>\n",
       "      <th>sex</th>\n",
       "      <td>-11.553200</td>\n",
       "    </tr>\n",
       "    <tr>\n",
       "      <th>bmi</th>\n",
       "      <td>26.778887</td>\n",
       "    </tr>\n",
       "    <tr>\n",
       "      <th>bp</th>\n",
       "      <td>14.487264</td>\n",
       "    </tr>\n",
       "    <tr>\n",
       "      <th>s1</th>\n",
       "      <td>-29.319602</td>\n",
       "    </tr>\n",
       "    <tr>\n",
       "      <th>s2</th>\n",
       "      <td>13.795324</td>\n",
       "    </tr>\n",
       "    <tr>\n",
       "      <th>s4</th>\n",
       "      <td>7.557797</td>\n",
       "    </tr>\n",
       "    <tr>\n",
       "      <th>s5</th>\n",
       "      <td>34.021275</td>\n",
       "    </tr>\n",
       "    <tr>\n",
       "      <th>s6</th>\n",
       "      <td>2.050649</td>\n",
       "    </tr>\n",
       "  </tbody>\n",
       "</table>\n",
       "</div>"
      ],
      "text/plain": [
       "         Lasso\n",
       "age  -1.657316\n",
       "sex -11.553200\n",
       "bmi  26.778887\n",
       "bp   14.487264\n",
       "s1  -29.319602\n",
       "s2   13.795324\n",
       "s4    7.557797\n",
       "s5   34.021275\n",
       "s6    2.050649"
      ]
     },
     "execution_count": 186,
     "metadata": {},
     "output_type": "execute_result"
    }
   ],
   "source": [
    "Lasso_coef = pd.DataFrame({\n",
    " 'Lasso':lasso_reg.coef_},\n",
    " index=X_train.columns)\n",
    "Lasso_coef"
   ]
  },
  {
   "cell_type": "code",
   "execution_count": 191,
   "metadata": {},
   "outputs": [
    {
     "data": {
      "text/html": [
       "<div>\n",
       "<style scoped>\n",
       "    .dataframe tbody tr th:only-of-type {\n",
       "        vertical-align: middle;\n",
       "    }\n",
       "\n",
       "    .dataframe tbody tr th {\n",
       "        vertical-align: top;\n",
       "    }\n",
       "\n",
       "    .dataframe thead th {\n",
       "        text-align: right;\n",
       "    }\n",
       "</style>\n",
       "<table border=\"1\" class=\"dataframe\">\n",
       "  <thead>\n",
       "    <tr style=\"text-align: right;\">\n",
       "      <th></th>\n",
       "      <th>intercept</th>\n",
       "    </tr>\n",
       "  </thead>\n",
       "  <tbody>\n",
       "    <tr>\n",
       "      <th>0</th>\n",
       "      <td>152.52</td>\n",
       "    </tr>\n",
       "  </tbody>\n",
       "</table>\n",
       "</div>"
      ],
      "text/plain": [
       "   intercept\n",
       "0     152.52"
      ]
     },
     "execution_count": 191,
     "metadata": {},
     "output_type": "execute_result"
    }
   ],
   "source": [
    "Lasso_intercept = pd.DataFrame({\"intercept\":[152.52], \n",
    "                  }) \n",
    "Lasso_intercept"
   ]
  },
  {
   "cell_type": "code",
   "execution_count": null,
   "metadata": {},
   "outputs": [],
   "source": []
  }
 ],
 "metadata": {
  "kernelspec": {
   "display_name": "Python 3",
   "language": "python",
   "name": "python3"
  },
  "language_info": {
   "codemirror_mode": {
    "name": "ipython",
    "version": 3
   },
   "file_extension": ".py",
   "mimetype": "text/x-python",
   "name": "python",
   "nbconvert_exporter": "python",
   "pygments_lexer": "ipython3",
   "version": "3.7.6"
  }
 },
 "nbformat": 4,
 "nbformat_minor": 1
}
